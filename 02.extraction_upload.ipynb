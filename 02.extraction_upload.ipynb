{
 "cells": [
  {
   "cell_type": "code",
   "execution_count": 1,
   "id": "07bf9d0a-c808-4241-bcb3-e38f30b6dd6d",
   "metadata": {},
   "outputs": [],
   "source": [
    "import os, boto3, requests, io, json\n",
    "from io import StringIO\n",
    "from datetime import datetime, timedelta, timezone\n",
    "import pandas as pd"
   ]
  },
  {
   "cell_type": "code",
   "execution_count": 2,
   "id": "a49ed8d4-bcdd-4a72-91d9-f7416ac36a88",
   "metadata": {},
   "outputs": [],
   "source": [
    "with open(\"credentials/aws_keys.json\") as f:\n",
    "    keys = json.load(f)\n",
    "\n",
    "os.environ[\"AWS_ACCESS_KEY_ID\"] = keys[\"AWS_ACCESS_KEY_ID\"]\n",
    "os.environ[\"AWS_SECRET_ACCESS_KEY\"] = keys[\"AWS_SECRET_ACCESS_KEY\"]\n",
    "os.environ[\"AWS_DEFAULT_REGION\"] = keys[\"AWS_DEFAULT_REGION\"]\n",
    "\n",
    "with open(\"credentials/ree.json\") as f:\n",
    "    ree = json.load(f)\n",
    "\n",
    "os.environ[\"REE_API_KEY\"] = ree[\"REE_API_KEY\"]"
   ]
  },
  {
   "cell_type": "code",
   "execution_count": 3,
   "id": "75f86a69-a7b1-4a65-9f1a-5b000cd7670c",
   "metadata": {},
   "outputs": [],
   "source": [
    "API_TOKEN = os.environ[\"REE_API_KEY\"]\n",
    "#S3_BUCKET = \"hab-ree-data\"\n",
    "S3_PREFIX = \"demanda-real\"\n",
    "S3_BUCKET = \"hab-ree-data-json\""
   ]
  },
  {
   "cell_type": "code",
   "execution_count": 4,
   "id": "e361db33-0739-40ff-9645-c14e231f5d71",
   "metadata": {},
   "outputs": [
    {
     "name": "stdout",
     "output_type": "stream",
     "text": [
      "Buckets: ['hab-ree-data', 'hab-ree-data-json']\n"
     ]
    }
   ],
   "source": [
    "s3 = boto3.client(\"s3\")\n",
    "\n",
    "buckets = [b[\"Name\"] for b in s3.list_buckets()[\"Buckets\"]]\n",
    "print(\"Buckets:\", buckets)"
   ]
  },
  {
   "cell_type": "code",
   "execution_count": 5,
   "id": "87515ec8-dfd1-4670-b3b9-4a9c24e7dd97",
   "metadata": {},
   "outputs": [],
   "source": [
    "START_DATE = datetime(2014, 1, 1, tzinfo=timezone.utc)\n",
    "END_DATE   = datetime.now(timezone.utc)\n",
    "\n",
    "MESES_ES = {\n",
    "    1:\"enero\", 2:\"febrero\", 3:\"marzo\", 4:\"abril\", 5:\"mayo\", 6:\"junio\",\n",
    "    7:\"julio\", 8:\"agosto\", 9:\"septiembre\", 10:\"octubre\", 11:\"noviembre\", 12:\"diciembre\"\n",
    "}"
   ]
  },
  {
   "cell_type": "code",
   "execution_count": 6,
   "id": "44213b62-02f4-4680-9a00-0678dbece22f",
   "metadata": {},
   "outputs": [],
   "source": [
    "# Comprobar el indicator_id con el código de ree_indicators. Lo filtré para ver los que contienen \"demanda real\"\n",
    "\n",
    "url = \"https://api.esios.ree.es/indicators/1293\"\n",
    "headers = {\n",
    "    \"x-api-key\": API_TOKEN,\n",
    "    \"Accept\": \"application/json\",\n",
    "    \"Content-Type\": \"application/json\"\n",
    "}"
   ]
  },
  {
   "cell_type": "code",
   "execution_count": 7,
   "id": "19201922-c9e1-409a-a0c1-27790508d2d8",
   "metadata": {},
   "outputs": [],
   "source": [
    "def s3_object_exists(bucket, key):\n",
    "    try:\n",
    "        s3.head_object(Bucket=bucket, Key=key)\n",
    "        return True\n",
    "    except s3.exceptions.NoSuchKey:\n",
    "        return False\n",
    "    except Exception:\n",
    "        return False"
   ]
  },
  {
   "cell_type": "code",
   "execution_count": 11,
   "id": "3d2953ac-9903-4945-90c1-6877847b75c6",
   "metadata": {},
   "outputs": [
    {
     "name": "stdout",
     "output_type": "stream",
     "text": [
      "Resumen: \n",
      "Archivos subidos: 4271 \n",
      "Archivos omitidos, ya existentes o sin datos: 0\n"
     ]
    }
   ],
   "source": [
    "cur = START_DATE\n",
    "subidos, omitidos = 0, 0\n",
    "\n",
    "while cur.date() <= END_DATE.date():\n",
    "    yyyy = f\"{cur.year:04d}\"\n",
    "    mm   = f\"{cur.month:02d}\"\n",
    "    dd   = f\"{cur.day:02d}\"\n",
    "    mes_es = MESES_ES[cur.month]\n",
    "\n",
    "    params = {\n",
    "        \"start_date\": f\"{yyyy}-{mm}-{dd}T00\",\n",
    "        \"end_date\":   f\"{yyyy}-{mm}-{dd}T23\"\n",
    "    }\n",
    "\n",
    "    try:\n",
    "        resp = requests.get(url, headers=headers, params=params, timeout=90)\n",
    "        resp.raise_for_status()\n",
    "        data = resp.json()\n",
    "        values = data.get(\"indicator\", {}).get(\"values\", []) or []\n",
    "\n",
    "        if values:\n",
    "            #df = pd.DataFrame(values)\n",
    "\n",
    "            #csv_buf = StringIO()\n",
    "            #df.to_csv(csv_buf, index=False)\n",
    "            #key = f\"{S3_PREFIX}/{yyyy}/{mm}-{mes_es}/ree-data_{yyyy}{mm}{dd}.csv\"\n",
    "\n",
    "            body = json.dumps(values, ensure_ascii=False, indent=2)\n",
    "            key = f\"{S3_PREFIX}/{yyyy}/{mm}-{mes_es}/ree-data_{yyyy}{mm}{dd}.json\"\n",
    "\n",
    "            if s3_object_exists(S3_BUCKET, key):\n",
    "                #print(f\"Archivo ya existe: s3://{S3_BUCKET}/{key}\")\n",
    "                omitidos += 1\n",
    "            else:\n",
    "                s3.put_object(\n",
    "                    Bucket=S3_BUCKET,\n",
    "                    Key=key,\n",
    "                    #Body=csv_buffer.getvalue(),\n",
    "                    Body=body,\n",
    "                    ContentType=\"application/json\"\n",
    "                )\n",
    "                #print(f\"Archivo subido: s3://{S3_BUCKET}/{key} ({len(df)} filas)\")\n",
    "                subidos += 1\n",
    "        else:\n",
    "            #print(f\"Sin datos: {yyyy}-{mm}-{dd}\")\n",
    "            omitidos += 1\n",
    "\n",
    "    except requests.HTTPError as e:\n",
    "        code = getattr(e.response, \"status_code\", \"NA\")\n",
    "        print(f\"HTTP {code} en {yyyy}-{mm}-{dd}: {e}\")\n",
    "        omitidos += 1\n",
    "    except Exception as e:\n",
    "        print(f\"Error general en {yyyy}-{mm}-{dd}: {e}\")\n",
    "        omitidos += 1\n",
    "\n",
    "    # Siguiente día\n",
    "    cur = cur + timedelta(days=1)\n",
    "    # time.sleep(0.1)\n",
    "\n",
    "print(f\"Resumen: \\nArchivos subidos: {subidos} \\nArchivos omitidos, ya existentes o sin datos: {omitidos}\")"
   ]
  }
 ],
 "metadata": {
  "kernelspec": {
   "display_name": "Python 3 (ipykernel)",
   "language": "python",
   "name": "python3"
  },
  "language_info": {
   "codemirror_mode": {
    "name": "ipython",
    "version": 3
   },
   "file_extension": ".py",
   "mimetype": "text/x-python",
   "name": "python",
   "nbconvert_exporter": "python",
   "pygments_lexer": "ipython3",
   "version": "3.13.5"
  }
 },
 "nbformat": 4,
 "nbformat_minor": 5
}
