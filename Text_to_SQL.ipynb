{
 "cells": [
  {
   "cell_type": "code",
<<<<<<< HEAD
   "execution_count": 1,
   "id": "be54ff03-39f4-4273-b129-bb0b55cf58b3",
   "metadata": {},
   "outputs": [],
   "source": [
    "import os, boto3, requests, io, json\n",
    "from io import StringIO\n",
    "from datetime import datetime, timedelta, timezone\n",
    "import pandas as pd\n",
    "from botocore.exceptions import ClientError\n",
    "import psycopg2"
   ]
  },
  {
   "cell_type": "code",
   "execution_count": 2,
   "id": "cedd12b9-3fd3-464c-920a-d3bfab92b816",
   "metadata": {},
   "outputs": [],
   "source": [
    "def text_to_SQL(texto):\n",
    "\n",
    "    from transformers import pipeline\n",
    "    from googletrans import Translator\n",
    "    \n",
    "    translator = Translator()\n",
    "    \n",
    "    Query=translator.translate(texto, src='es', dest='en').text\n",
    "    \n",
    "    \n",
    "    text_to_SQL = pipeline(\"text-generation\", model=\"Ellbendls/Qwen-2.5-3b-Text_to_SQL\")\n",
    "    messages = [\n",
    "        {\"role\": \"user\",\n",
    "         \"content\":(f\"You are an assistant that generates valid PostgreSQL queries.\"\n",
    "            f\"The table name is demanda_electrica with columns:\"\n",
    "            f\"datetime (text, format YYYY-MM-DD HH:MM:SS), value (numeric), geo_location (text).\"\n",
    "            f\"Write only the SQL query without explanation.\"\n",
    "            f\"Do not use MySQL or SQLite functions like MONTH(), strftime(), date() and only complete dates.\"\n",
    "            f\"If the request mentions a specific day, use a **date range** (datetime >= 'YYYY-MM-DD' AND datetime < 'YYYY-MM-DD' + 1 day).\"\n",
    "            f\"only extract information dont insert more data\"        \n",
    "            f\"Task: {Query}\")\n",
    "        }\n",
    "    ]\n",
    "    consultaSQL=text_to_SQL(messages)\n",
    "    texto_generado = consultaSQL[0]['generated_text'][1]['content']\n",
    "    sql = texto_generado.split(\"SQL Query:\")[-1].strip()\n",
    "\n",
    "    return sql\n",
    "\n",
    "\n"
   ]
  },
  {
   "cell_type": "code",
   "execution_count": 3,
   "id": "d7db4896-8180-41cc-9759-deeac195a847",
   "metadata": {},
   "outputs": [],
   "source": [
    "\n",
    "\n",
    "def consultar_BD(consulta):\n",
    "    \n",
    "    try:\n",
    "        conn = psycopg2.connect(\n",
    "            dbname='ree',\n",
    "            user='postgres',\n",
    "            password='postgres',\n",
    "            host='rds-ree.cf4666uiqche.eu-north-1.rds.amazonaws.com',\n",
    "            port=5432\n",
    "        )\n",
    "        conn.autocommit = True\n",
    "        cur = conn.cursor()\n",
    "        cur.execute(consulta) # Ejecutamos la query\n",
    "        column_names = [desc[0] for desc in cur.description] # Nombre de las columnas de la tabla\n",
    "        \n",
    "        # Guardamos los datos de la tabla\n",
    "        data = cur.fetchall()\n",
    "        \n",
    "        cur.close()\n",
    "        conn.close()\n",
    "\n",
    "        return data\n",
    "    except Exception as e:\n",
    "        print(f\"❌ Error de conexión/creación: {e}\")\n"
   ]
  },
  {
   "cell_type": "code",
   "execution_count": 4,
   "id": "3a9efa48-8204-4219-a7d5-f02de7db5604",
   "metadata": {},
   "outputs": [
    {
     "name": "stdin",
     "output_type": "stream",
     "text": [
      "Escriba la consulta que desea hacer:  saca promedio de la demanda de octubre de 2024\n"
     ]
    },
    {
     "data": {
      "application/vnd.jupyter.widget-view+json": {
       "model_id": "41b935ad1c69478eb40052994acb11c0",
=======
   "execution_count": 38,
   "id": "cedd12b9-3fd3-464c-920a-d3bfab92b816",
   "metadata": {},
   "outputs": [
    {
     "data": {
      "application/vnd.jupyter.widget-view+json": {
       "model_id": "0a221d91bd6240fdb3aa878da49c4af8",
>>>>>>> main
       "version_major": 2,
       "version_minor": 0
      },
      "text/plain": [
       "Loading checkpoint shards:   0%|          | 0/2 [00:00<?, ?it/s]"
      ]
     },
     "metadata": {},
     "output_type": "display_data"
    },
    {
     "name": "stderr",
     "output_type": "stream",
     "text": [
      "Device set to use cpu\n"
     ]
<<<<<<< HEAD
    },
    {
     "name": "stdout",
     "output_type": "stream",
     "text": [
      "SELECT AVG(value) FROM demanda_electrica WHERE datetime BETWEEN '2024-10-01 00:00:00' AND '2024-10-31 23:59:59';\n"
     ]
    }
   ],
   "source": [
    "consulta=input(\"Escriba la consulta que desea hacer: \")\n",
    "query=text_to_SQL(consulta)\n",
    "print(query)\n",
    "\n"
=======
    }
   ],
   "source": [
    "from transformers import pipeline\n",
    "from googletrans import Translator\n",
    "\n",
    "translator = Translator()\n",
    "consulta=\"dame la media de la demanda de septiembre del año 2017\"\n",
    "\n",
    "Query=translator.translate(consulta, src='es', dest='en').text\n",
    "\n",
    "\n",
    "text_to_SQL = pipeline(\"text-generation\", model=\"Ellbendls/Qwen-2.5-3b-Text_to_SQL\")\n",
    "messages = [\n",
    "    {\"role\": \"user\", \"content\":f\"in a table Electric demand with columns datetime,values,geo_location{Query}\"},\n",
    "]\n",
    "consultaSQL=text_to_SQL(messages)\n"
>>>>>>> main
   ]
  },
  {
   "cell_type": "code",
<<<<<<< HEAD
   "execution_count": 5,
   "id": "6ee2a458-d9ec-4b3b-af0d-420d839646a7",
=======
   "execution_count": 39,
   "id": "d7db4896-8180-41cc-9759-deeac195a847",
>>>>>>> main
   "metadata": {},
   "outputs": [
    {
     "name": "stdout",
     "output_type": "stream",
     "text": [
<<<<<<< HEAD
      "[(7063619.6,)]\n"
=======
      "SELECT AVG(values) FROM Electric_demand WHERE datetime BETWEEN '2017-09-01' AND '2017-09-30';\n"
>>>>>>> main
     ]
    }
   ],
   "source": [
<<<<<<< HEAD
    "resultado=consultar_BD(query)\n",
    "print(resultado)"
   ]
  },
  {
   "cell_type": "code",
   "execution_count": null,
   "id": "2c7538d4-4ef1-4238-802c-bb608790e13f",
   "metadata": {},
   "outputs": [],
   "source": []
=======
    "texto_generado = consultaSQL[0]['generated_text'][1]['content']\n",
    "sql = texto_generado.split(\"SQL Query:\")[-1].strip()\n",
    "\n",
    "\n",
    "print(sql)"
   ]
>>>>>>> main
  }
 ],
 "metadata": {
  "kernelspec": {
   "display_name": "Python 3 (ipykernel)",
   "language": "python",
   "name": "python3"
  },
  "language_info": {
   "codemirror_mode": {
    "name": "ipython",
    "version": 3
   },
   "file_extension": ".py",
   "mimetype": "text/x-python",
   "name": "python",
   "nbconvert_exporter": "python",
   "pygments_lexer": "ipython3",
<<<<<<< HEAD
   "version": "3.12.7"
=======
   "version": "3.13.5"
>>>>>>> main
  }
 },
 "nbformat": 4,
 "nbformat_minor": 5
}
