{
 "cells": [
  {
   "cell_type": "code",
   "execution_count": 38,
   "id": "cedd12b9-3fd3-464c-920a-d3bfab92b816",
   "metadata": {},
   "outputs": [
    {
     "data": {
      "application/vnd.jupyter.widget-view+json": {
       "model_id": "0a221d91bd6240fdb3aa878da49c4af8",
       "version_major": 2,
       "version_minor": 0
      },
      "text/plain": [
       "Loading checkpoint shards:   0%|          | 0/2 [00:00<?, ?it/s]"
      ]
     },
     "metadata": {},
     "output_type": "display_data"
    },
    {
     "name": "stderr",
     "output_type": "stream",
     "text": [
      "Device set to use cpu\n"
     ]
    }
   ],
   "source": [
    "from transformers import pipeline\n",
    "from googletrans import Translator\n",
    "\n",
    "translator = Translator()\n",
    "consulta=\"dame la media de la demanda de septiembre del año 2017\"\n",
    "\n",
    "Query=translator.translate(consulta, src='es', dest='en').text\n",
    "\n",
    "\n",
    "text_to_SQL = pipeline(\"text-generation\", model=\"Ellbendls/Qwen-2.5-3b-Text_to_SQL\")\n",
    "messages = [\n",
    "    {\"role\": \"user\", \"content\":f\"in a table Electric demand with columns datetime,values,geo_location{Query}\"},\n",
    "]\n",
    "consultaSQL=text_to_SQL(messages)\n"
   ]
  },
  {
   "cell_type": "code",
   "execution_count": 39,
   "id": "d7db4896-8180-41cc-9759-deeac195a847",
   "metadata": {},
   "outputs": [
    {
     "name": "stdout",
     "output_type": "stream",
     "text": [
      "SELECT AVG(values) FROM Electric_demand WHERE datetime BETWEEN '2017-09-01' AND '2017-09-30';\n"
     ]
    }
   ],
   "source": [
    "texto_generado = consultaSQL[0]['generated_text'][1]['content']\n",
    "sql = texto_generado.split(\"SQL Query:\")[-1].strip()\n",
    "\n",
    "\n",
    "print(sql)"
   ]
  }
 ],
 "metadata": {
  "kernelspec": {
   "display_name": "Python 3 (ipykernel)",
   "language": "python",
   "name": "python3"
  },
  "language_info": {
   "codemirror_mode": {
    "name": "ipython",
    "version": 3
   },
   "file_extension": ".py",
   "mimetype": "text/x-python",
   "name": "python",
   "nbconvert_exporter": "python",
   "pygments_lexer": "ipython3",
   "version": "3.13.5"
  }
 },
 "nbformat": 4,
 "nbformat_minor": 5
}
