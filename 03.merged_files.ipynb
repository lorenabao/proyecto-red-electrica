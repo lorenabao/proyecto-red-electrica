{
 "cells": [
  {
   "cell_type": "code",
   "execution_count": 1,
   "id": "4cd4547d-856a-45ec-8b3a-6d20cb168c53",
   "metadata": {},
   "outputs": [],
   "source": [
    "import boto3, json, os\n",
    "import pandas as pd\n",
    "from botocore.config import Config"
   ]
  },
  {
   "cell_type": "code",
   "execution_count": 2,
   "id": "cce568c3-52d6-430c-9847-524e274683b2",
   "metadata": {},
   "outputs": [],
   "source": [
    "S3_BUCKET = \"hab-ree-data-json\"\n",
    "S3_PREFIX = \"demanda-real\"\n",
    "OUTPUT_KEY = \"merged/ree-data_full.json\""
   ]
  },
  {
   "cell_type": "code",
   "execution_count": 3,
   "id": "e49018ca-cc8f-40e5-a3f5-71d680ed448a",
   "metadata": {},
   "outputs": [],
   "source": [
    "with open(\"credentials/aws_keys.json\") as f:\n",
    "    keys = json.load(f)\n",
    "\n",
    "os.environ[\"AWS_ACCESS_KEY_ID\"] = keys[\"AWS_ACCESS_KEY_ID\"]\n",
    "os.environ[\"AWS_SECRET_ACCESS_KEY\"] = keys[\"AWS_SECRET_ACCESS_KEY\"]\n",
    "os.environ[\"AWS_DEFAULT_REGION\"] = keys[\"AWS_DEFAULT_REGION\"]"
   ]
  },
  {
   "cell_type": "code",
   "execution_count": 4,
   "id": "6e7a4663-7a1b-435d-8106-cc8fcf6214ca",
   "metadata": {},
   "outputs": [],
   "source": [
    "s3 = boto3.client(\"s3\")"
   ]
  },
  {
   "cell_type": "code",
   "execution_count": 5,
   "id": "bf2d893d-9628-4194-9277-caa835c391f9",
   "metadata": {},
   "outputs": [
    {
     "name": "stdout",
     "output_type": "stream",
     "text": [
      "Filas totales: 4276\n",
      "Merged listo: s3://hab-ree-data-json/merged/ree-data_full.json\n"
     ]
    }
   ],
   "source": [
    "dfs = [] \n",
    "paginator = s3.get_paginator(\"list_objects_v2\")\n",
    "\n",
    "for page in paginator.paginate(Bucket=S3_BUCKET, Prefix=S3_PREFIX):\n",
    "    for obj in page.get(\"Contents\", []) or []:\n",
    "        key = obj[\"Key\"]\n",
    "        size = obj.get(\"Size\", 0)\n",
    "\n",
    "        if size == 0 or not key.endswith(\".json\"):\n",
    "            continue  # saltar carpetas o ficheros no-json\n",
    "\n",
    "        body = s3.get_object(Bucket=S3_BUCKET, Key=key)[\"Body\"].read()\n",
    "        data = json.loads(body)\n",
    "\n",
    "        values = data.get(\"indicator\", {}).get(\"values\", []) if isinstance(data, dict) else data\n",
    "        if values:\n",
    "            dfs.append(pd.DataFrame(values))\n",
    "\n",
    "full_df = pd.concat(dfs, ignore_index=True) if dfs else pd.DataFrame()\n",
    "print(\"Filas totales:\", len(full_df))\n",
    "\n",
    "# Guardar como JSON (lista de records) vs split\n",
    "payload = full_df.to_json(orient=\"records\", force_ascii=False)\n",
    "\n",
    "s3.put_object(\n",
    "    Bucket=S3_BUCKET,\n",
    "    Key=OUTPUT_KEY,\n",
    "    Body=payload,\n",
    "    ContentType=\"application/json\",\n",
    "    Metadata={\"row_count\": str(len(full_df))}\n",
    ")\n",
    "\n",
    "print(f\"Merged listo: s3://{S3_BUCKET}/{OUTPUT_KEY}\")"
   ]
  }
 ],
 "metadata": {
  "kernelspec": {
   "display_name": "Python 3 (ipykernel)",
   "language": "python",
   "name": "python3"
  },
  "language_info": {
   "codemirror_mode": {
    "name": "ipython",
    "version": 3
   },
   "file_extension": ".py",
   "mimetype": "text/x-python",
   "name": "python",
   "nbconvert_exporter": "python",
   "pygments_lexer": "ipython3",
   "version": "3.13.5"
  }
 },
 "nbformat": 4,
 "nbformat_minor": 5
}
