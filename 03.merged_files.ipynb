{
 "cells": [
  {
   "cell_type": "code",
   "execution_count": 25,
   "id": "4cd4547d-856a-45ec-8b3a-6d20cb168c53",
   "metadata": {},
   "outputs": [],
   "source": [
    "import boto3, json, os\n",
    "import pandas as pd\n",
    "from botocore.config import Config"
   ]
  },
  {
   "cell_type": "code",
   "execution_count": 12,
   "id": "cce568c3-52d6-430c-9847-524e274683b2",
   "metadata": {},
   "outputs": [],
   "source": [
    "S3_BUCKET = \"hab-ree-data-json\"\n",
    "S3_PREFIX = \"demanda-real\"\n",
    "OUTPUT_KEY = \"merged/ree-data_full.json\""
   ]
  },
  {
   "cell_type": "code",
   "execution_count": 13,
   "id": "e49018ca-cc8f-40e5-a3f5-71d680ed448a",
   "metadata": {},
   "outputs": [],
   "source": [
    "with open(\"credentials/aws_keys.json\") as f:\n",
    "    keys = json.load(f)\n",
    "\n",
    "os.environ[\"AWS_ACCESS_KEY_ID\"] = keys[\"AWS_ACCESS_KEY_ID\"]\n",
    "os.environ[\"AWS_SECRET_ACCESS_KEY\"] = keys[\"AWS_SECRET_ACCESS_KEY\"]\n",
    "os.environ[\"AWS_DEFAULT_REGION\"] = keys[\"AWS_DEFAULT_REGION\"]"
   ]
  },
  {
   "cell_type": "code",
   "execution_count": 14,
   "id": "6e7a4663-7a1b-435d-8106-cc8fcf6214ca",
   "metadata": {},
   "outputs": [],
   "source": [
    "s3 = boto3.client(\"s3\")"
   ]
  },
  {
   "cell_type": "code",
   "execution_count": 37,
   "id": "34a65825-3d12-4ad1-8b06-d08930688033",
   "metadata": {},
   "outputs": [
    {
     "name": "stdout",
     "output_type": "stream",
     "text": [
      "{'Key': 'demanda-real/2014/01-enero/ree-data_20140101.json', 'LastModified': datetime.datetime(2025, 9, 10, 8, 48, 33, tzinfo=tzutc()), 'ETag': '\"3e3e46a8ee51c6abd366dfb57c7da67a\"', 'ChecksumAlgorithm': ['CRC32'], 'ChecksumType': 'FULL_OBJECT', 'Size': 30026, 'StorageClass': 'STANDARD'}\n",
      "[1] demanda-real/2014/01-enero/ree-data_20140101.json -> 139 filas\n",
      "{'Key': 'demanda-real/2014/01-enero/ree-data_20140102.json', 'LastModified': datetime.datetime(2025, 9, 10, 8, 48, 34, tzinfo=tzutc()), 'ETag': '\"d9f4b81bdf7374fa2e976db1965d480f\"', 'ChecksumAlgorithm': ['CRC32'], 'ChecksumType': 'FULL_OBJECT', 'Size': 30026, 'StorageClass': 'STANDARD'}\n",
      "[2] demanda-real/2014/01-enero/ree-data_20140102.json -> 139 filas\n",
      "{'Key': 'demanda-real/2014/01-enero/ree-data_20140103.json', 'LastModified': datetime.datetime(2025, 9, 10, 8, 48, 34, tzinfo=tzutc()), 'ETag': '\"f7418e4da8ab0b2297f03ca50c646c73\"', 'ChecksumAlgorithm': ['CRC32'], 'ChecksumType': 'FULL_OBJECT', 'Size': 30026, 'StorageClass': 'STANDARD'}\n",
      "[3] demanda-real/2014/01-enero/ree-data_20140103.json -> 139 filas\n",
      "{'Key': 'demanda-real/2014/01-enero/ree-data_20140104.json', 'LastModified': datetime.datetime(2025, 9, 10, 8, 48, 35, tzinfo=tzutc()), 'ETag': '\"90ba9b37306a1f2a93512e310ce73660\"', 'ChecksumAlgorithm': ['CRC32'], 'ChecksumType': 'FULL_OBJECT', 'Size': 30026, 'StorageClass': 'STANDARD'}\n",
      "[4] demanda-real/2014/01-enero/ree-data_20140104.json -> 139 filas\n",
      "{'Key': 'demanda-real/2014/01-enero/ree-data_20140105.json', 'LastModified': datetime.datetime(2025, 9, 10, 8, 48, 35, tzinfo=tzutc()), 'ETag': '\"be7c2a1d69cb8a77ac8e5ee958bb56b3\"', 'ChecksumAlgorithm': ['CRC32'], 'ChecksumType': 'FULL_OBJECT', 'Size': 30026, 'StorageClass': 'STANDARD'}\n",
      "[5] demanda-real/2014/01-enero/ree-data_20140105.json -> 139 filas\n"
     ]
    }
   ],
   "source": [
    "# Bloque test\n",
    "dfs = []\n",
    "processed = 0\n",
    "MAX_FILES = 5  # número de archivos de prueba\n",
    "\n",
    "paginator = s3.get_paginator(\"list_objects_v2\")\n",
    "\n",
    "for page in paginator.paginate(Bucket=S3_BUCKET, Prefix=S3_PREFIX):\n",
    "    for obj in page.get(\"Contents\", []):\n",
    "        key = obj[\"Key\"]\n",
    "        print(obj)\n",
    "\n",
    "        #body = s3.get_object(Bucket=S3_BUCKET, Key=key)[\"Body\"].read()\n",
    "        #data = json.loads(body)\n",
    "\n",
    "        # Soporta dict con indicator.values o lista directa\n",
    "        #values = data[\"indicator\"][\"values\"] if isinstance(data, dict) else data\n",
    "        #df = pd.DataFrame(values)\n",
    "        #dfs.append(df)\n",
    "\n",
    "        processed += 1\n",
    "        print(f\"[{processed}] {key} -> {len(df)} filas\")\n",
    "\n",
    "        if processed >= MAX_FILES:\n",
    "            break\n",
    "    if processed >= MAX_FILES:\n",
    "        break"
   ]
  },
  {
   "cell_type": "code",
   "execution_count": null,
   "id": "e9cb1197-e8a6-43fe-9b12-c9a0d3c97e7e",
   "metadata": {},
   "outputs": [],
   "source": [
    "# Bloque test\n",
    "if dfs:\n",
    "    sample_df = pd.concat(dfs, ignore_index=True)\n",
    "    display(sample_df.head(10))"
   ]
  },
  {
   "cell_type": "code",
   "execution_count": 30,
   "id": "b32d8661-a27b-4283-b1b3-eab3e9701cf0",
   "metadata": {},
   "outputs": [],
   "source": [
    "dfs = []\n",
    "paginator = s3.get_paginator(\"list_objects_v2\")\n",
    "\n",
    "for page in paginator.paginate(Bucket=S3_BUCKET, Prefix=S3_PREFIX):\n",
    "    for obj in page.get(\"Contents\", []):\n",
    "        key = obj[\"Key\"] \n",
    "\n",
    "        body = s3.get_object(Bucket=S3_BUCKET, Key=key)[\"Body\"].read()\n",
    "        data = json.loads(body)\n",
    "\n",
    "        values = data[\"indicator\"][\"values\"] if isinstance(data, dict) else data\n",
    "        dfs.append(pd.DataFrame(values))"
   ]
  },
  {
   "cell_type": "code",
   "execution_count": 31,
   "id": "08432f2c-c4c5-4e27-9d91-76f73db60377",
   "metadata": {},
   "outputs": [
    {
     "name": "stdout",
     "output_type": "stream",
     "text": [
      "Filas totales: 760090\n"
     ]
    }
   ],
   "source": [
    "full_df = pd.concat(dfs, ignore_index=True)\n",
    "print(\"Filas totales:\", len(full_df))"
   ]
  },
  {
   "cell_type": "code",
   "execution_count": 33,
   "id": "468d8a1b-ae92-495c-bb55-a7b8f3481293",
   "metadata": {},
   "outputs": [
    {
     "name": "stdout",
     "output_type": "stream",
     "text": [
      "Merged listo: s3://hab-ree-data-json/merged/ree-data_full.json\n"
     ]
    }
   ],
   "source": [
    "# Probar también con orient=\"split\" https://pandas.pydata.org/docs/reference/api/pandas.DataFrame.to_json.html\n",
    "\n",
    "payload = full_df.to_json(orient=\"records\")\n",
    "s3.put_object(\n",
    "    Bucket=S3_BUCKET,\n",
    "    Key=OUTPUT_KEY,\n",
    "    Body=payload,\n",
    "    ContentType=\"application/json\"\n",
    ")\n",
    "\n",
    "print(f\"Merged listo: s3://{S3_BUCKET}/{OUTPUT_KEY}\")"
   ]
  },
  {
   "cell_type": "code",
   "execution_count": null,
   "id": "638b0b7f-3cfe-44c0-9ac6-e638ebb9e435",
   "metadata": {},
   "outputs": [],
   "source": []
  }
 ],
 "metadata": {
  "kernelspec": {
   "display_name": "Python 3 (ipykernel)",
   "language": "python",
   "name": "python3"
  },
  "language_info": {
   "codemirror_mode": {
    "name": "ipython",
    "version": 3
   },
   "file_extension": ".py",
   "mimetype": "text/x-python",
   "name": "python",
   "nbconvert_exporter": "python",
   "pygments_lexer": "ipython3",
   "version": "3.13.5"
  }
 },
 "nbformat": 4,
 "nbformat_minor": 5
}
