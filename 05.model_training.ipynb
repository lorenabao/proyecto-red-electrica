{
 "cells": [
  {
   "cell_type": "code",
   "execution_count": null,
   "id": "a2610ed0-2d32-4d02-8ae8-d3d988939512",
   "metadata": {},
   "outputs": [],
   "source": [
    "#!pip install xgboost"
   ]
  },
  {
   "cell_type": "code",
   "execution_count": null,
   "id": "ef9bdde2-b71f-48d5-930f-8544a453f198",
   "metadata": {},
   "outputs": [],
   "source": [
    "import os\n",
    "import pandas as pd\n",
    "import numpy as np\n",
    "\n",
    "import psycopg2\n",
    "import sqlalchemy \n",
    "from sqlalchemy import create_engine\n",
    "from sqlalchemy import text\n",
    "\n",
    "from xgboost import XGBRegressor\n",
    "from sklearn.metrics import mean_absolute_error, mean_squared_error\n",
    "\n",
    "from datetime import timedelta"
   ]
  },
  {
   "cell_type": "code",
   "execution_count": null,
   "id": "36362e3c-591e-4374-a6b0-a416467807f4",
   "metadata": {},
   "outputs": [],
   "source": [
    "with open(\"credentials/bbdd.json\") as f:\n",
    "    bbdd = json.load(f)\n",
    "\n",
    "host=bbdd[\"host\"]\n",
    "database=bbdd[\"database\"]\n",
    "user=bbdd[\"user\"]\n",
    "password=bbdd[\"password\"]"
   ]
  },
  {
   "cell_type": "code",
   "execution_count": null,
   "id": "3d06bb1d-a994-48c4-b2e5-aba337c60709",
   "metadata": {},
   "outputs": [],
   "source": [
    "engine = create_engine(f\"postgresql+psycopg2://{user}:{password}@{host}/{database}\")"
   ]
  },
  {
   "cell_type": "code",
   "execution_count": null,
   "id": "3a469d7f-f700-4020-a2cc-bd555b326a2f",
   "metadata": {},
   "outputs": [],
   "source": [
    "#Bloque de test - cierra automáticamente la conexión\n",
    "with engine.connect() as conn:\n",
    "    rows = conn.execute(text(\"SELECT 1\")).all()\n",
    "    df = pd.read_sql_table(table_name = \"demanda_electrica\", con = conn)\n",
    "    print(df.head())"
   ]
  },
  {
   "cell_type": "code",
   "execution_count": null,
   "id": "24d92fc8-c46d-4c18-af31-2d78e552fb16",
   "metadata": {},
   "outputs": [],
   "source": [
    "connection = engine.connect()"
   ]
  },
  {
   "cell_type": "code",
   "execution_count": null,
   "id": "bce49955-7028-4c98-9792-f479b82fc29a",
   "metadata": {},
   "outputs": [],
   "source": [
    "df = pd.read_sql_table(table_name = \"demanda_electrica\", con = connection)"
   ]
  },
  {
   "cell_type": "code",
   "execution_count": null,
   "id": "35034cc9-c4bf-47ee-9331-c3816e1c7b01",
   "metadata": {},
   "outputs": [],
   "source": [
    "df"
   ]
  },
  {
   "cell_type": "code",
   "execution_count": null,
   "id": "a0cbe8b0-c08d-4033-80c3-3e3b89f7c486",
   "metadata": {},
   "outputs": [],
   "source": [
    "connection.close()"
   ]
  },
  {
   "cell_type": "code",
   "execution_count": null,
   "id": "372cb017-c3f3-456a-9749-c4ca2ae7c735",
   "metadata": {},
   "outputs": [],
   "source": [
    "engine.dispose()"
   ]
  },
  {
   "cell_type": "code",
   "execution_count": 22,
   "id": "3c0b060b-4e56-4040-a75c-8cbfcf1d3214",
   "metadata": {},
   "outputs": [],
   "source": [
    "df_backup = df.copy()\n",
    "\n",
    "#df = df_backup"
   ]
  },
  {
   "cell_type": "code",
   "execution_count": 18,
   "id": "c6ded0a3-ae07-4f96-9e86-339068286834",
   "metadata": {},
   "outputs": [
    {
     "data": {
      "text/html": [
       "<div>\n",
       "<style scoped>\n",
       "    .dataframe tbody tr th:only-of-type {\n",
       "        vertical-align: middle;\n",
       "    }\n",
       "\n",
       "    .dataframe tbody tr th {\n",
       "        vertical-align: top;\n",
       "    }\n",
       "\n",
       "    .dataframe thead th {\n",
       "        text-align: right;\n",
       "    }\n",
       "</style>\n",
       "<table border=\"1\" class=\"dataframe\">\n",
       "  <thead>\n",
       "    <tr style=\"text-align: right;\">\n",
       "      <th></th>\n",
       "      <th>value</th>\n",
       "      <th>datetime</th>\n",
       "      <th>datetime_utc</th>\n",
       "      <th>tz_time</th>\n",
       "      <th>geo_id</th>\n",
       "      <th>geo_name</th>\n",
       "    </tr>\n",
       "  </thead>\n",
       "  <tbody>\n",
       "    <tr>\n",
       "      <th>0</th>\n",
       "      <td>3187298.0</td>\n",
       "      <td>2014-01-01T00:00:00.000+01:00</td>\n",
       "      <td>2013-12-31T23:00:00Z</td>\n",
       "      <td>2013-12-31T23:00:00.000Z</td>\n",
       "      <td>8741</td>\n",
       "      <td>Península</td>\n",
       "    </tr>\n",
       "    <tr>\n",
       "      <th>1</th>\n",
       "      <td>3916726.0</td>\n",
       "      <td>2014-01-02T00:00:00.000+01:00</td>\n",
       "      <td>2014-01-01T23:00:00Z</td>\n",
       "      <td>2014-01-01T23:00:00.000Z</td>\n",
       "      <td>8741</td>\n",
       "      <td>Península</td>\n",
       "    </tr>\n",
       "    <tr>\n",
       "      <th>2</th>\n",
       "      <td>3957472.0</td>\n",
       "      <td>2014-01-03T00:00:00.000+01:00</td>\n",
       "      <td>2014-01-02T23:00:00Z</td>\n",
       "      <td>2014-01-02T23:00:00.000Z</td>\n",
       "      <td>8741</td>\n",
       "      <td>Península</td>\n",
       "    </tr>\n",
       "    <tr>\n",
       "      <th>3</th>\n",
       "      <td>3726719.0</td>\n",
       "      <td>2014-01-04T00:00:00.000+01:00</td>\n",
       "      <td>2014-01-03T23:00:00Z</td>\n",
       "      <td>2014-01-03T23:00:00.000Z</td>\n",
       "      <td>8741</td>\n",
       "      <td>Península</td>\n",
       "    </tr>\n",
       "    <tr>\n",
       "      <th>4</th>\n",
       "      <td>3511386.0</td>\n",
       "      <td>2014-01-05T00:00:00.000+01:00</td>\n",
       "      <td>2014-01-04T23:00:00Z</td>\n",
       "      <td>2014-01-04T23:00:00.000Z</td>\n",
       "      <td>8741</td>\n",
       "      <td>Península</td>\n",
       "    </tr>\n",
       "  </tbody>\n",
       "</table>\n",
       "</div>"
      ],
      "text/plain": [
       "       value                       datetime          datetime_utc  \\\n",
       "0  3187298.0  2014-01-01T00:00:00.000+01:00  2013-12-31T23:00:00Z   \n",
       "1  3916726.0  2014-01-02T00:00:00.000+01:00  2014-01-01T23:00:00Z   \n",
       "2  3957472.0  2014-01-03T00:00:00.000+01:00  2014-01-02T23:00:00Z   \n",
       "3  3726719.0  2014-01-04T00:00:00.000+01:00  2014-01-03T23:00:00Z   \n",
       "4  3511386.0  2014-01-05T00:00:00.000+01:00  2014-01-04T23:00:00Z   \n",
       "\n",
       "                    tz_time geo_id   geo_name  \n",
       "0  2013-12-31T23:00:00.000Z   8741  Península  \n",
       "1  2014-01-01T23:00:00.000Z   8741  Península  \n",
       "2  2014-01-02T23:00:00.000Z   8741  Península  \n",
       "3  2014-01-03T23:00:00.000Z   8741  Península  \n",
       "4  2014-01-04T23:00:00.000Z   8741  Península  "
      ]
     },
     "execution_count": 18,
     "metadata": {},
     "output_type": "execute_result"
    }
   ],
   "source": [
    "df_clean = df.copy()"
   ]
  },
  {
   "cell_type": "code",
   "execution_count": 31,
   "id": "65fed9c7-7289-4577-9671-0cd9cf46c02b",
   "metadata": {},
   "outputs": [
    {
     "data": {
      "text/plain": [
       "value           0\n",
       "datetime        0\n",
       "datetime_utc    0\n",
       "tz_time         0\n",
       "geo_id          0\n",
       "geo_name        0\n",
       "dtype: int64"
      ]
     },
     "execution_count": 31,
     "metadata": {},
     "output_type": "execute_result"
    }
   ],
   "source": [
    "df_clean.isnull().sum()"
   ]
  },
  {
   "cell_type": "code",
   "execution_count": 33,
   "id": "8216dccd-efd7-41e7-8fba-79075a42e38f",
   "metadata": {},
   "outputs": [
    {
     "data": {
      "text/plain": [
       "geo_name\n",
       "Península    4276\n",
       "Name: count, dtype: int64"
      ]
     },
     "execution_count": 33,
     "metadata": {},
     "output_type": "execute_result"
    }
   ],
   "source": [
    "df_clean[\"geo_name\"].value_counts(dropna=False)"
   ]
  },
  {
   "cell_type": "code",
   "execution_count": 30,
   "id": "70e5519e-c0ab-4c7c-8b09-03bce64dded2",
   "metadata": {},
   "outputs": [
    {
     "data": {
      "text/plain": [
       "geo_id\n",
       "8741    4276\n",
       "Name: count, dtype: int64"
      ]
     },
     "execution_count": 30,
     "metadata": {},
     "output_type": "execute_result"
    }
   ],
   "source": [
    "df_clean[\"geo_id\"].value_counts(dropna=False)"
   ]
  }
 ],
 "metadata": {
  "kernelspec": {
   "display_name": "Python 3 (ipykernel)",
   "language": "python",
   "name": "python3"
  },
  "language_info": {
   "codemirror_mode": {
    "name": "ipython",
    "version": 3
   },
   "file_extension": ".py",
   "mimetype": "text/x-python",
   "name": "python",
   "nbconvert_exporter": "python",
   "pygments_lexer": "ipython3",
   "version": "3.13.5"
  }
 },
 "nbformat": 4,
 "nbformat_minor": 5
}
