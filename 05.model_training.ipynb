{
 "cells": [
  {
   "cell_type": "code",
   "execution_count": null,
   "id": "a2610ed0-2d32-4d02-8ae8-d3d988939512",
   "metadata": {},
   "outputs": [],
   "source": [
    "#!pip install xgboost"
   ]
  },
  {
   "cell_type": "code",
   "execution_count": null,
   "id": "ef9bdde2-b71f-48d5-930f-8544a453f198",
   "metadata": {},
   "outputs": [],
   "source": [
    "import os\n",
    "import pandas as pd\n",
    "import numpy as np\n",
    "\n",
    "import psycopg2\n",
    "import sqlalchemy \n",
    "from sqlalchemy import create_engine\n",
    "from sqlalchemy import text\n",
    "\n",
    "from xgboost import XGBRegressor\n",
    "from sklearn.metrics import mean_absolute_error, mean_squared_error\n",
    "\n",
    "from datetime import timedelta"
   ]
  },
  {
   "cell_type": "code",
   "execution_count": null,
   "id": "36362e3c-591e-4374-a6b0-a416467807f4",
   "metadata": {},
   "outputs": [],
   "source": [
    "with open(\"credentials/bbdd.json\") as f:\n",
    "    bbdd = json.load(f)\n",
    "\n",
    "host=bbdd[\"host\"]\n",
    "database=bbdd[\"database\"]\n",
    "user=bbdd[\"user\"]\n",
    "password=bbdd[\"password\"]"
   ]
  },
  {
   "cell_type": "code",
   "execution_count": null,
   "id": "3d06bb1d-a994-48c4-b2e5-aba337c60709",
   "metadata": {},
   "outputs": [],
   "source": [
    "engine = create_engine(f\"postgresql+psycopg2://{user}:{password}@{host}/{database}\")"
   ]
  },
  {
   "cell_type": "code",
   "execution_count": null,
   "id": "3a469d7f-f700-4020-a2cc-bd555b326a2f",
   "metadata": {},
   "outputs": [],
   "source": [
    "#Bloque de test - cierra automáticamente la conexión\n",
    "with engine.connect() as conn:\n",
    "    rows = conn.execute(text(\"SELECT 1\")).all()\n",
    "    df = pd.read_sql_table(table_name = \"demanda_electrica\", con = conn)\n",
    "    print(df.head())"
   ]
  },
  {
   "cell_type": "code",
   "execution_count": null,
   "id": "24d92fc8-c46d-4c18-af31-2d78e552fb16",
   "metadata": {},
   "outputs": [],
   "source": [
    "connection = engine.connect()"
   ]
  },
  {
   "cell_type": "code",
   "execution_count": null,
   "id": "bce49955-7028-4c98-9792-f479b82fc29a",
   "metadata": {},
   "outputs": [],
   "source": [
    "df = pd.read_sql_table(table_name = \"demanda_electrica\", con = connection)"
   ]
  },
  {
   "cell_type": "code",
   "execution_count": null,
   "id": "35034cc9-c4bf-47ee-9331-c3816e1c7b01",
   "metadata": {},
   "outputs": [],
   "source": [
    "df"
   ]
  },
  {
   "cell_type": "code",
   "execution_count": null,
   "id": "a0cbe8b0-c08d-4033-80c3-3e3b89f7c486",
   "metadata": {},
   "outputs": [],
   "source": [
    "connection.close()"
   ]
  },
  {
   "cell_type": "code",
   "execution_count": null,
   "id": "372cb017-c3f3-456a-9749-c4ca2ae7c735",
   "metadata": {},
   "outputs": [],
   "source": [
    "engine.dispose()"
   ]
  },
  {
   "cell_type": "code",
   "execution_count": 22,
   "id": "3c0b060b-4e56-4040-a75c-8cbfcf1d3214",
   "metadata": {},
   "outputs": [],
   "source": [
    "df_backup = df.copy()\n",
    "\n",
    "#df = df_backup"
   ]
  },
  {
   "cell_type": "code",
   "execution_count": 18,
   "id": "c6ded0a3-ae07-4f96-9e86-339068286834",
   "metadata": {},
   "outputs": [
    {
     "data": {
      "text/html": [
       "<div>\n",
       "<style scoped>\n",
       "    .dataframe tbody tr th:only-of-type {\n",
       "        vertical-align: middle;\n",
       "    }\n",
       "\n",
       "    .dataframe tbody tr th {\n",
       "        vertical-align: top;\n",
       "    }\n",
       "\n",
       "    .dataframe thead th {\n",
       "        text-align: right;\n",
       "    }\n",
       "</style>\n",
       "<table border=\"1\" class=\"dataframe\">\n",
       "  <thead>\n",
       "    <tr style=\"text-align: right;\">\n",
       "      <th></th>\n",
       "      <th>value</th>\n",
       "      <th>datetime</th>\n",
       "      <th>datetime_utc</th>\n",
       "      <th>tz_time</th>\n",
       "      <th>geo_id</th>\n",
       "      <th>geo_name</th>\n",
       "    </tr>\n",
       "  </thead>\n",
       "  <tbody>\n",
       "    <tr>\n",
       "      <th>0</th>\n",
       "      <td>3187298.0</td>\n",
       "      <td>2014-01-01T00:00:00.000+01:00</td>\n",
       "      <td>2013-12-31T23:00:00Z</td>\n",
       "      <td>2013-12-31T23:00:00.000Z</td>\n",
       "      <td>8741</td>\n",
       "      <td>Península</td>\n",
       "    </tr>\n",
       "    <tr>\n",
       "      <th>1</th>\n",
       "      <td>3916726.0</td>\n",
       "      <td>2014-01-02T00:00:00.000+01:00</td>\n",
       "      <td>2014-01-01T23:00:00Z</td>\n",
       "      <td>2014-01-01T23:00:00.000Z</td>\n",
       "      <td>8741</td>\n",
       "      <td>Península</td>\n",
       "    </tr>\n",
       "    <tr>\n",
       "      <th>2</th>\n",
       "      <td>3957472.0</td>\n",
       "      <td>2014-01-03T00:00:00.000+01:00</td>\n",
       "      <td>2014-01-02T23:00:00Z</td>\n",
       "      <td>2014-01-02T23:00:00.000Z</td>\n",
       "      <td>8741</td>\n",
       "      <td>Península</td>\n",
       "    </tr>\n",
       "    <tr>\n",
       "      <th>3</th>\n",
       "      <td>3726719.0</td>\n",
       "      <td>2014-01-04T00:00:00.000+01:00</td>\n",
       "      <td>2014-01-03T23:00:00Z</td>\n",
       "      <td>2014-01-03T23:00:00.000Z</td>\n",
       "      <td>8741</td>\n",
       "      <td>Península</td>\n",
       "    </tr>\n",
       "    <tr>\n",
       "      <th>4</th>\n",
       "      <td>3511386.0</td>\n",
       "      <td>2014-01-05T00:00:00.000+01:00</td>\n",
       "      <td>2014-01-04T23:00:00Z</td>\n",
       "      <td>2014-01-04T23:00:00.000Z</td>\n",
       "      <td>8741</td>\n",
       "      <td>Península</td>\n",
       "    </tr>\n",
       "  </tbody>\n",
       "</table>\n",
       "</div>"
      ],
      "text/plain": [
       "       value                       datetime          datetime_utc  \\\n",
       "0  3187298.0  2014-01-01T00:00:00.000+01:00  2013-12-31T23:00:00Z   \n",
       "1  3916726.0  2014-01-02T00:00:00.000+01:00  2014-01-01T23:00:00Z   \n",
       "2  3957472.0  2014-01-03T00:00:00.000+01:00  2014-01-02T23:00:00Z   \n",
       "3  3726719.0  2014-01-04T00:00:00.000+01:00  2014-01-03T23:00:00Z   \n",
       "4  3511386.0  2014-01-05T00:00:00.000+01:00  2014-01-04T23:00:00Z   \n",
       "\n",
       "                    tz_time geo_id   geo_name  \n",
       "0  2013-12-31T23:00:00.000Z   8741  Península  \n",
       "1  2014-01-01T23:00:00.000Z   8741  Península  \n",
       "2  2014-01-02T23:00:00.000Z   8741  Península  \n",
       "3  2014-01-03T23:00:00.000Z   8741  Península  \n",
       "4  2014-01-04T23:00:00.000Z   8741  Península  "
      ]
     },
     "execution_count": 18,
     "metadata": {},
     "output_type": "execute_result"
    }
   ],
   "source": [
    "df_clean = df.copy()"
   ]
  },
  {
   "cell_type": "code",
   "execution_count": 31,
   "id": "65fed9c7-7289-4577-9671-0cd9cf46c02b",
   "metadata": {},
   "outputs": [
    {
     "data": {
      "text/plain": [
       "value           0\n",
       "datetime        0\n",
       "datetime_utc    0\n",
       "tz_time         0\n",
       "geo_id          0\n",
       "geo_name        0\n",
       "dtype: int64"
      ]
     },
     "execution_count": 31,
     "metadata": {},
     "output_type": "execute_result"
    }
   ],
   "source": [
    "df_clean.isnull().sum()"
   ]
  },
  {
   "cell_type": "code",
   "execution_count": 33,
   "id": "8216dccd-efd7-41e7-8fba-79075a42e38f",
   "metadata": {},
   "outputs": [
    {
     "data": {
      "text/plain": [
       "geo_name\n",
       "Península    4276\n",
       "Name: count, dtype: int64"
      ]
     },
     "execution_count": 33,
     "metadata": {},
     "output_type": "execute_result"
    }
   ],
   "source": [
    "df_clean[\"geo_name\"].value_counts(dropna=False)"
   ]
  },
  {
   "cell_type": "code",
   "execution_count": 30,
   "id": "70e5519e-c0ab-4c7c-8b09-03bce64dded2",
   "metadata": {},
   "outputs": [
    {
     "data": {
      "text/plain": [
       "geo_id\n",
       "8741    4276\n",
       "Name: count, dtype: int64"
      ]
     },
     "execution_count": 30,
     "metadata": {},
     "output_type": "execute_result"
    }
   ],
   "source": [
    "df_clean[\"geo_id\"].value_counts(dropna=False)"
   ]
  },
  {
   "cell_type": "code",
   "execution_count": 41,
   "id": "42ad712a-ef56-487d-9caa-732b8cce555a",
   "metadata": {},
   "outputs": [
    {
     "data": {
      "text/plain": [
       "0       3187298.0\n",
       "1       3916726.0\n",
       "2       3957472.0\n",
       "3       3726719.0\n",
       "4       3511386.0\n",
       "          ...    \n",
       "4271    7532009.0\n",
       "4272    7719284.0\n",
       "4273    6931088.0\n",
       "4274    6490902.0\n",
       "4275    3386155.0\n",
       "Name: value, Length: 4276, dtype: float64"
      ]
     },
     "execution_count": 41,
     "metadata": {},
     "output_type": "execute_result"
    }
   ],
   "source": [
    "df_clean[\"value\"]"
   ]
  },
  {
   "cell_type": "code",
   "execution_count": 42,
   "id": "d059339b-15ac-45ff-838f-b26a16c8ff77",
   "metadata": {},
   "outputs": [
    {
     "data": {
      "text/plain": [
       "0       2014-01-01T00:00:00.000+01:00\n",
       "1       2014-01-02T00:00:00.000+01:00\n",
       "2       2014-01-03T00:00:00.000+01:00\n",
       "3       2014-01-04T00:00:00.000+01:00\n",
       "4       2014-01-05T00:00:00.000+01:00\n",
       "                    ...              \n",
       "4271    2025-09-11T00:00:00.000+02:00\n",
       "4272    2025-09-12T00:00:00.000+02:00\n",
       "4273    2025-09-13T00:00:00.000+02:00\n",
       "4274    2025-09-14T00:00:00.000+02:00\n",
       "4275    2025-09-15T00:00:00.000+02:00\n",
       "Name: datetime, Length: 4276, dtype: object"
      ]
     },
     "execution_count": 42,
     "metadata": {},
     "output_type": "execute_result"
    }
   ],
   "source": [
    "df_clean[\"datetime\"]"
   ]
  },
  {
   "cell_type": "code",
   "execution_count": 43,
   "id": "a8d058bf-24a9-435f-8e3e-b4556a766321",
   "metadata": {},
   "outputs": [
    {
     "data": {
      "text/plain": [
       "0       2013-12-31T23:00:00Z\n",
       "1       2014-01-01T23:00:00Z\n",
       "2       2014-01-02T23:00:00Z\n",
       "3       2014-01-03T23:00:00Z\n",
       "4       2014-01-04T23:00:00Z\n",
       "                ...         \n",
       "4271    2025-09-10T22:00:00Z\n",
       "4272    2025-09-11T22:00:00Z\n",
       "4273    2025-09-12T22:00:00Z\n",
       "4274    2025-09-13T22:00:00Z\n",
       "4275    2025-09-14T22:00:00Z\n",
       "Name: datetime_utc, Length: 4276, dtype: object"
      ]
     },
     "execution_count": 43,
     "metadata": {},
     "output_type": "execute_result"
    }
   ],
   "source": [
    "df_clean[\"datetime_utc\"]"
   ]
  },
  {
   "cell_type": "code",
   "execution_count": 45,
   "id": "76dfaedf-5ea8-42a7-a260-368ebaa34c7b",
   "metadata": {},
   "outputs": [
    {
     "data": {
      "text/plain": [
       "0      2013-12-31 23:00:00+00:00\n",
       "1      2014-01-01 23:00:00+00:00\n",
       "2      2014-01-02 23:00:00+00:00\n",
       "3      2014-01-03 23:00:00+00:00\n",
       "4      2014-01-04 23:00:00+00:00\n",
       "                  ...           \n",
       "4271   2025-09-10 22:00:00+00:00\n",
       "4272   2025-09-11 22:00:00+00:00\n",
       "4273   2025-09-12 22:00:00+00:00\n",
       "4274   2025-09-13 22:00:00+00:00\n",
       "4275   2025-09-14 22:00:00+00:00\n",
       "Name: converted_datetime_utc_date, Length: 4276, dtype: datetime64[ns, UTC]"
      ]
     },
     "execution_count": 45,
     "metadata": {},
     "output_type": "execute_result"
    }
   ],
   "source": [
    "df_clean[\"converted_datetime_utc_date\"] = pd.to_datetime(df_clean[\"datetime_utc\"], utc=True)\n",
    "\n",
    "df_clean[\"converted_datetime_utc_date\"]"
   ]
  },
  {
   "cell_type": "code",
   "execution_count": 51,
   "id": "1bea4248-5d39-441c-903f-d52a7e7079de",
   "metadata": {},
   "outputs": [],
   "source": [
    "df_clean_backup = df_clean.copy()\n",
    "\n",
    "df_clean_backup = df_clean_backup.copy()"
   ]
  },
  {
   "cell_type": "code",
   "execution_count": 52,
   "id": "9ce5ddde-ede1-48a6-919f-f82d0dd531e7",
   "metadata": {},
   "outputs": [
    {
     "data": {
      "text/html": [
       "<div>\n",
       "<style scoped>\n",
       "    .dataframe tbody tr th:only-of-type {\n",
       "        vertical-align: middle;\n",
       "    }\n",
       "\n",
       "    .dataframe tbody tr th {\n",
       "        vertical-align: top;\n",
       "    }\n",
       "\n",
       "    .dataframe thead th {\n",
       "        text-align: right;\n",
       "    }\n",
       "</style>\n",
       "<table border=\"1\" class=\"dataframe\">\n",
       "  <thead>\n",
       "    <tr style=\"text-align: right;\">\n",
       "      <th></th>\n",
       "      <th>value</th>\n",
       "      <th>converted_datetime_utc_date</th>\n",
       "    </tr>\n",
       "  </thead>\n",
       "  <tbody>\n",
       "    <tr>\n",
       "      <th>0</th>\n",
       "      <td>3187298.0</td>\n",
       "      <td>2013-12-31 23:00:00+00:00</td>\n",
       "    </tr>\n",
       "    <tr>\n",
       "      <th>1</th>\n",
       "      <td>3916726.0</td>\n",
       "      <td>2014-01-01 23:00:00+00:00</td>\n",
       "    </tr>\n",
       "    <tr>\n",
       "      <th>2</th>\n",
       "      <td>3957472.0</td>\n",
       "      <td>2014-01-02 23:00:00+00:00</td>\n",
       "    </tr>\n",
       "    <tr>\n",
       "      <th>3</th>\n",
       "      <td>3726719.0</td>\n",
       "      <td>2014-01-03 23:00:00+00:00</td>\n",
       "    </tr>\n",
       "    <tr>\n",
       "      <th>4</th>\n",
       "      <td>3511386.0</td>\n",
       "      <td>2014-01-04 23:00:00+00:00</td>\n",
       "    </tr>\n",
       "    <tr>\n",
       "      <th>...</th>\n",
       "      <td>...</td>\n",
       "      <td>...</td>\n",
       "    </tr>\n",
       "    <tr>\n",
       "      <th>4271</th>\n",
       "      <td>7532009.0</td>\n",
       "      <td>2025-09-10 22:00:00+00:00</td>\n",
       "    </tr>\n",
       "    <tr>\n",
       "      <th>4272</th>\n",
       "      <td>7719284.0</td>\n",
       "      <td>2025-09-11 22:00:00+00:00</td>\n",
       "    </tr>\n",
       "    <tr>\n",
       "      <th>4273</th>\n",
       "      <td>6931088.0</td>\n",
       "      <td>2025-09-12 22:00:00+00:00</td>\n",
       "    </tr>\n",
       "    <tr>\n",
       "      <th>4274</th>\n",
       "      <td>6490902.0</td>\n",
       "      <td>2025-09-13 22:00:00+00:00</td>\n",
       "    </tr>\n",
       "    <tr>\n",
       "      <th>4275</th>\n",
       "      <td>3386155.0</td>\n",
       "      <td>2025-09-14 22:00:00+00:00</td>\n",
       "    </tr>\n",
       "  </tbody>\n",
       "</table>\n",
       "<p>4276 rows × 2 columns</p>\n",
       "</div>"
      ],
      "text/plain": [
       "          value converted_datetime_utc_date\n",
       "0     3187298.0   2013-12-31 23:00:00+00:00\n",
       "1     3916726.0   2014-01-01 23:00:00+00:00\n",
       "2     3957472.0   2014-01-02 23:00:00+00:00\n",
       "3     3726719.0   2014-01-03 23:00:00+00:00\n",
       "4     3511386.0   2014-01-04 23:00:00+00:00\n",
       "...         ...                         ...\n",
       "4271  7532009.0   2025-09-10 22:00:00+00:00\n",
       "4272  7719284.0   2025-09-11 22:00:00+00:00\n",
       "4273  6931088.0   2025-09-12 22:00:00+00:00\n",
       "4274  6490902.0   2025-09-13 22:00:00+00:00\n",
       "4275  3386155.0   2025-09-14 22:00:00+00:00\n",
       "\n",
       "[4276 rows x 2 columns]"
      ]
     },
     "execution_count": 52,
     "metadata": {},
     "output_type": "execute_result"
    }
   ],
   "source": [
    "df_clean = df_clean.drop(columns = [\"datetime\", \"datetime_utc\", \"tz_time\", \"geo_id\", \"geo_name\"])\n",
    "\n",
    "df_clean"
   ]
  },
  {
   "cell_type": "code",
   "execution_count": 59,
   "id": "b061e8c4-4365-465a-8ece-2a02968662fd",
   "metadata": {},
   "outputs": [
    {
     "name": "stdout",
     "output_type": "stream",
     "text": [
      "Train: \n",
      " Fecha min: 2013-12-31 23:00:00+00:00 \n",
      " Fecha max: 2025-07-15 22:00:00+00:00 \n",
      " Len: 4215\n",
      "Test: \n",
      " Fecha min: 2025-07-16 22:00:00+00:00 \n",
      " Fecha max: 2025-09-14 22:00:00+00:00 \n",
      " Len: 61\n"
     ]
    }
   ],
   "source": [
    "corte  = df_clean[\"converted_datetime_utc_date\"].max() - pd.Timedelta(days=60)\n",
    "\n",
    "test_df = df_clean[df_clean[\"converted_datetime_utc_date\"] >= corte]\n",
    "train_df = df_clean[df_clean[\"converted_datetime_utc_date\"] <  corte]\n",
    "\n",
    "print(f\"Train: \\n Fecha min: {train_df[\"converted_datetime_utc_date\"].min()} \\n Fecha max: {train_df[\"converted_datetime_utc_date\"].max()} \\n Len: {len(train_df)}\")\n",
    "print(f\"Test: \\n Fecha min: {test_df[\"converted_datetime_utc_date\"].min()} \\n Fecha max: {test_df[\"converted_datetime_utc_date\"].max()} \\n Len: {len(test_df)}\")"
   ]
  },
  {
   "cell_type": "code",
   "execution_count": null,
   "id": "ce545f1b-5b95-4ce5-9e55-c490625bd6af",
   "metadata": {},
   "outputs": [],
   "source": []
  }
 ],
 "metadata": {
  "kernelspec": {
   "display_name": "Python 3 (ipykernel)",
   "language": "python",
   "name": "python3"
  },
  "language_info": {
   "codemirror_mode": {
    "name": "ipython",
    "version": 3
   },
   "file_extension": ".py",
   "mimetype": "text/x-python",
   "name": "python",
   "nbconvert_exporter": "python",
   "pygments_lexer": "ipython3",
   "version": "3.13.5"
  }
 },
 "nbformat": 4,
 "nbformat_minor": 5
}
