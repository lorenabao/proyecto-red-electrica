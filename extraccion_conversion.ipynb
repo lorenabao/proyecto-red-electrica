{
 "cells": [
  {
   "cell_type": "code",
   "execution_count": 1,
   "id": "9774289d-b248-4085-88fd-0ae6c5811680",
   "metadata": {},
   "outputs": [],
   "source": [
    "import requests\n",
    "import pandas as pd\n",
    "from io import StringIO\n",
    "import boto3\n",
    "import os\n",
    "\n",
    "# Cargar credenciales desde ~/.aws/credentials o variables de entorno\n",
    "#session = boto3.Session()\n",
    "#s3 = session.client('s3')"
   ]
  },
  {
   "cell_type": "code",
   "execution_count": 14,
   "id": "a1c8a1bb-8feb-437c-9150-6fbc3591c168",
   "metadata": {},
   "outputs": [
    {
     "name": "stdout",
     "output_type": "stream",
     "text": [
      "500\n"
     ]
    },
    {
     "ename": "JSONDecodeError",
     "evalue": "Expecting value: line 1 column 1 (char 0)",
     "output_type": "error",
     "traceback": [
      "\u001b[1;31m---------------------------------------------------------------------------\u001b[0m",
      "\u001b[1;31mJSONDecodeError\u001b[0m                           Traceback (most recent call last)",
      "File \u001b[1;32m~\\anaconda3\\Lib\\site-packages\\requests\\models.py:974\u001b[0m, in \u001b[0;36mResponse.json\u001b[1;34m(self, **kwargs)\u001b[0m\n\u001b[0;32m    973\u001b[0m \u001b[38;5;28;01mtry\u001b[39;00m:\n\u001b[1;32m--> 974\u001b[0m     \u001b[38;5;28;01mreturn\u001b[39;00m complexjson\u001b[38;5;241m.\u001b[39mloads(\u001b[38;5;28mself\u001b[39m\u001b[38;5;241m.\u001b[39mtext, \u001b[38;5;241m*\u001b[39m\u001b[38;5;241m*\u001b[39mkwargs)\n\u001b[0;32m    975\u001b[0m \u001b[38;5;28;01mexcept\u001b[39;00m JSONDecodeError \u001b[38;5;28;01mas\u001b[39;00m e:\n\u001b[0;32m    976\u001b[0m     \u001b[38;5;66;03m# Catch JSON-related errors and raise as requests.JSONDecodeError\u001b[39;00m\n\u001b[0;32m    977\u001b[0m     \u001b[38;5;66;03m# This aliases json.JSONDecodeError and simplejson.JSONDecodeError\u001b[39;00m\n",
      "File \u001b[1;32m~\\anaconda3\\Lib\\json\\__init__.py:346\u001b[0m, in \u001b[0;36mloads\u001b[1;34m(s, cls, object_hook, parse_float, parse_int, parse_constant, object_pairs_hook, **kw)\u001b[0m\n\u001b[0;32m    343\u001b[0m \u001b[38;5;28;01mif\u001b[39;00m (\u001b[38;5;28mcls\u001b[39m \u001b[38;5;129;01mis\u001b[39;00m \u001b[38;5;28;01mNone\u001b[39;00m \u001b[38;5;129;01mand\u001b[39;00m object_hook \u001b[38;5;129;01mis\u001b[39;00m \u001b[38;5;28;01mNone\u001b[39;00m \u001b[38;5;129;01mand\u001b[39;00m\n\u001b[0;32m    344\u001b[0m         parse_int \u001b[38;5;129;01mis\u001b[39;00m \u001b[38;5;28;01mNone\u001b[39;00m \u001b[38;5;129;01mand\u001b[39;00m parse_float \u001b[38;5;129;01mis\u001b[39;00m \u001b[38;5;28;01mNone\u001b[39;00m \u001b[38;5;129;01mand\u001b[39;00m\n\u001b[0;32m    345\u001b[0m         parse_constant \u001b[38;5;129;01mis\u001b[39;00m \u001b[38;5;28;01mNone\u001b[39;00m \u001b[38;5;129;01mand\u001b[39;00m object_pairs_hook \u001b[38;5;129;01mis\u001b[39;00m \u001b[38;5;28;01mNone\u001b[39;00m \u001b[38;5;129;01mand\u001b[39;00m \u001b[38;5;129;01mnot\u001b[39;00m kw):\n\u001b[1;32m--> 346\u001b[0m     \u001b[38;5;28;01mreturn\u001b[39;00m _default_decoder\u001b[38;5;241m.\u001b[39mdecode(s)\n\u001b[0;32m    347\u001b[0m \u001b[38;5;28;01mif\u001b[39;00m \u001b[38;5;28mcls\u001b[39m \u001b[38;5;129;01mis\u001b[39;00m \u001b[38;5;28;01mNone\u001b[39;00m:\n",
      "File \u001b[1;32m~\\anaconda3\\Lib\\json\\decoder.py:337\u001b[0m, in \u001b[0;36mJSONDecoder.decode\u001b[1;34m(self, s, _w)\u001b[0m\n\u001b[0;32m    333\u001b[0m \u001b[38;5;250m\u001b[39m\u001b[38;5;124;03m\"\"\"Return the Python representation of ``s`` (a ``str`` instance\u001b[39;00m\n\u001b[0;32m    334\u001b[0m \u001b[38;5;124;03mcontaining a JSON document).\u001b[39;00m\n\u001b[0;32m    335\u001b[0m \n\u001b[0;32m    336\u001b[0m \u001b[38;5;124;03m\"\"\"\u001b[39;00m\n\u001b[1;32m--> 337\u001b[0m obj, end \u001b[38;5;241m=\u001b[39m \u001b[38;5;28mself\u001b[39m\u001b[38;5;241m.\u001b[39mraw_decode(s, idx\u001b[38;5;241m=\u001b[39m_w(s, \u001b[38;5;241m0\u001b[39m)\u001b[38;5;241m.\u001b[39mend())\n\u001b[0;32m    338\u001b[0m end \u001b[38;5;241m=\u001b[39m _w(s, end)\u001b[38;5;241m.\u001b[39mend()\n",
      "File \u001b[1;32m~\\anaconda3\\Lib\\json\\decoder.py:355\u001b[0m, in \u001b[0;36mJSONDecoder.raw_decode\u001b[1;34m(self, s, idx)\u001b[0m\n\u001b[0;32m    354\u001b[0m \u001b[38;5;28;01mexcept\u001b[39;00m \u001b[38;5;167;01mStopIteration\u001b[39;00m \u001b[38;5;28;01mas\u001b[39;00m err:\n\u001b[1;32m--> 355\u001b[0m     \u001b[38;5;28;01mraise\u001b[39;00m JSONDecodeError(\u001b[38;5;124m\"\u001b[39m\u001b[38;5;124mExpecting value\u001b[39m\u001b[38;5;124m\"\u001b[39m, s, err\u001b[38;5;241m.\u001b[39mvalue) \u001b[38;5;28;01mfrom\u001b[39;00m \u001b[38;5;28;01mNone\u001b[39;00m\n\u001b[0;32m    356\u001b[0m \u001b[38;5;28;01mreturn\u001b[39;00m obj, end\n",
      "\u001b[1;31mJSONDecodeError\u001b[0m: Expecting value: line 1 column 1 (char 0)",
      "\nDuring handling of the above exception, another exception occurred:\n",
      "\u001b[1;31mJSONDecodeError\u001b[0m                           Traceback (most recent call last)",
      "Cell \u001b[1;32mIn[14], line 16\u001b[0m\n\u001b[0;32m     14\u001b[0m response\u001b[38;5;241m=\u001b[39mrequests\u001b[38;5;241m.\u001b[39mget(url,params\u001b[38;5;241m=\u001b[39mdict_parametros)\n\u001b[0;32m     15\u001b[0m \u001b[38;5;28mprint\u001b[39m(response\u001b[38;5;241m.\u001b[39mstatus_code)\n\u001b[1;32m---> 16\u001b[0m datos\u001b[38;5;241m=\u001b[39mresponse\u001b[38;5;241m.\u001b[39mjson()\n\u001b[0;32m     17\u001b[0m datos\u001b[38;5;241m=\u001b[39mdatos[\u001b[38;5;124m\"\u001b[39m\u001b[38;5;124mincluded\u001b[39m\u001b[38;5;124m\"\u001b[39m][\u001b[38;5;241m0\u001b[39m][\u001b[38;5;124m\"\u001b[39m\u001b[38;5;124mattributes\u001b[39m\u001b[38;5;124m\"\u001b[39m][\u001b[38;5;124m\"\u001b[39m\u001b[38;5;124mvalues\u001b[39m\u001b[38;5;124m\"\u001b[39m]\n\u001b[0;32m     18\u001b[0m df\u001b[38;5;241m=\u001b[39mpd\u001b[38;5;241m.\u001b[39mDataFrame(datos)\n",
      "File \u001b[1;32m~\\anaconda3\\Lib\\site-packages\\requests\\models.py:978\u001b[0m, in \u001b[0;36mResponse.json\u001b[1;34m(self, **kwargs)\u001b[0m\n\u001b[0;32m    974\u001b[0m     \u001b[38;5;28;01mreturn\u001b[39;00m complexjson\u001b[38;5;241m.\u001b[39mloads(\u001b[38;5;28mself\u001b[39m\u001b[38;5;241m.\u001b[39mtext, \u001b[38;5;241m*\u001b[39m\u001b[38;5;241m*\u001b[39mkwargs)\n\u001b[0;32m    975\u001b[0m \u001b[38;5;28;01mexcept\u001b[39;00m JSONDecodeError \u001b[38;5;28;01mas\u001b[39;00m e:\n\u001b[0;32m    976\u001b[0m     \u001b[38;5;66;03m# Catch JSON-related errors and raise as requests.JSONDecodeError\u001b[39;00m\n\u001b[0;32m    977\u001b[0m     \u001b[38;5;66;03m# This aliases json.JSONDecodeError and simplejson.JSONDecodeError\u001b[39;00m\n\u001b[1;32m--> 978\u001b[0m     \u001b[38;5;28;01mraise\u001b[39;00m RequestsJSONDecodeError(e\u001b[38;5;241m.\u001b[39mmsg, e\u001b[38;5;241m.\u001b[39mdoc, e\u001b[38;5;241m.\u001b[39mpos)\n",
      "\u001b[1;31mJSONDecodeError\u001b[0m: Expecting value: line 1 column 1 (char 0)"
     ]
    }
   ],
   "source": [
    "dataframes=[]\n",
    "\n",
    "for anho in range(2014,2023):\n",
    "    dict_parametros={\n",
    "        \"start_date\":f\"{anho}-09-07T00:00\",\n",
    "        \"end_date\":f\"{anho +1}-09-07T23:59\",\n",
    "        \"time_trunc\":\"day\",\n",
    "        \"geo_trunc\":\"electric_system\",\n",
    "        \"geo_limit\":\"peninsular\",\n",
    "        \"geo_ids\":\"8741\",\n",
    "    }\n",
    "    url = f\"\"\"https://apidatos.ree.es/es/datos/demanda/ire-general\"\"\"\n",
    "\n",
    "    response=requests.get(url,params=dict_parametros)\n",
    "    print(response.status_code)\n",
    "    datos=response.json()\n",
    "    datos=datos[\"included\"][0][\"attributes\"][\"values\"]\n",
    "    df=pd.DataFrame(datos)\n",
    "    dataframes.append(datos)\n",
    "\n",
    "df_master=pd.concat(dataframes,ignore_index = True)"
   ]
  },
  {
   "cell_type": "code",
   "execution_count": null,
   "id": "7fd0abe2-f9b1-4468-a6b4-1089b0da9dab",
   "metadata": {},
   "outputs": [],
   "source": [
    "df_master"
   ]
  },
  {
   "cell_type": "code",
   "execution_count": null,
   "id": "f6661afb-71b0-4e40-9725-caf02f5d1160",
   "metadata": {},
   "outputs": [],
   "source": [
    "#con esto cuando funcione lo pondriamos en s3 guardando el dataframe en memoria\n",
    "\n",
    "csv_buffer = StringIO()\n",
    "df_master.to_csv(csv_buffer, index=False)\n",
    "\n",
    "# Subir a S3 desde memoria\n",
    "object_key = 'in_memory/productos.csv'\n",
    "\n",
    "s3.put_object(Bucket=bucket_name, Key=object_key, Body=csv_buffer.getvalue())\n",
    "print(f\"DataFrame subido a S3 como '{object_key}'\")"
   ]
  },
  {
   "cell_type": "code",
   "execution_count": null,
   "id": "0675f703-4ec4-49a8-a1ac-07510eccd459",
   "metadata": {},
   "outputs": [],
   "source": [
    "#ahora leeriamos el csv para trabajar con el y ponerlo en rds\n",
    "csv_key = 'in_memory/productos.csv'\n",
    "s3_path_csv = f\"s3://{bucket_name}/{csv_key}\"\n",
    "\n",
    "df_csv = pd.read_csv(s3_path_csv)\n",
    "df_csv"
   ]
  },
  {
   "cell_type": "code",
   "execution_count": null,
   "id": "a3bc8518-3ef0-40d2-9b13-4d1388da15f5",
   "metadata": {},
   "outputs": [],
   "source": [
    "#nos conectamos a nuestro rds\n",
    "\n",
    "def obtener_endpoint(id_instancia):\n",
    "    try:\n",
    "        db = rds.describe_db_instances(DBInstanceIdentifier=id_instancia)['DBInstances'][0]\n",
    "        endpoint = db['Endpoint']['Address']\n",
    "        puerto = db['Endpoint']['Port']\n",
    "        print(f\"🌐 Endpoint: {endpoint}:{puerto}\")\n",
    "        return endpoint, puerto\n",
    "    except ClientError as e:\n",
    "        print(f\"Error: {e}\")\n",
    "        return None, None\n",
    "\n",
    "\n",
    "\n"
   ]
  },
  {
   "cell_type": "code",
   "execution_count": null,
   "id": "b47e8b98-0718-4b20-8aa4-b0518e433596",
   "metadata": {},
   "outputs": [],
   "source": [
    "#creamos la base de datos demanda_eletrica y la tabla demanda usando csv de antes\n",
    "\n",
    "def crear_base_y_tabla(endpoint, puerto):\n",
    "    try:\n",
    "        conn = psycopg2.connect(\n",
    "            dbname='postgres',\n",
    "            user='adminuser',\n",
    "            password='Admin123456!',\n",
    "            host=endpoint,\n",
    "            port=puerto\n",
    "        )\n",
    "        conn.autocommit = True\n",
    "        cur = conn.cursor()\n",
    "\n",
    "        # Crear base de datos\n",
    "        cur.execute(\"CREATE DATABASE demanda_electrica;\")\n",
    "        print(\"✅ Base de datos 'demanda_electrica' creada\")\n",
    "\n",
    "        # Conectarse a la nueva base de datos\n",
    "        cur.close()\n",
    "        conn.close()\n",
    "        conn2 = psycopg2.connect(\n",
    "            dbname='demanda_electrica',\n",
    "            user='adminuser',\n",
    "            password='Admin123456!',\n",
    "            host=endpoint,\n",
    "            port=puerto\n",
    "        )\n",
    "        conn2.autocommit = True\n",
    "        cur2 = conn2.cursor(df_csv.to_sql(name = \"demanda\", con = engine, if_exists = \"replace\", index = False) )\n",
    "\n",
    "        # Crear tabla\n",
    "        cur2.execute()\n",
    "        print(\"✅ Tabla 'demanda' creada en 'demanda_electrica_db'\")\n",
    "        cur2.close()\n",
    "        conn2.close()\n",
    "    except Exception as e:\n",
    "        print(f\"❌ Error de conexión/creación: {e}\")\n",
    "\n",
    "# "
   ]
  },
  {
   "cell_type": "code",
   "execution_count": null,
   "id": "f1dc0a24-779d-458f-981b-0f5ee009f787",
   "metadata": {},
   "outputs": [],
   "source": [
    "endpoint, puerto = obtener_endpoint('clase-postgres-demo')\n",
    "crear_base_y_tabla(endpoint, puerto)"
   ]
  }
 ],
 "metadata": {
  "kernelspec": {
   "display_name": "Python 3 (ipykernel)",
   "language": "python",
   "name": "python3"
  },
  "language_info": {
   "codemirror_mode": {
    "name": "ipython",
    "version": 3
   },
   "file_extension": ".py",
   "mimetype": "text/x-python",
   "name": "python",
   "nbconvert_exporter": "python",
   "pygments_lexer": "ipython3",
   "version": "3.12.7"
  }
 },
 "nbformat": 4,
 "nbformat_minor": 5
}
