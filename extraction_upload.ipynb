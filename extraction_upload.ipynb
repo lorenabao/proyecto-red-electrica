{
 "cells": [
  {
   "cell_type": "code",
   "execution_count": 1,
   "id": "07bf9d0a-c808-4241-bcb3-e38f30b6dd6d",
   "metadata": {},
   "outputs": [],
   "source": [
    "import os, boto3, requests, io, json"
   ]
  },
  {
   "cell_type": "code",
   "execution_count": 2,
   "id": "a49ed8d4-bcdd-4a72-91d9-f7416ac36a88",
   "metadata": {},
   "outputs": [],
   "source": [
    "with open(\"credentials/aws_keys.json\") as f:\n",
    "    keys = json.load(f)\n",
    "\n",
    "os.environ[\"AWS_ACCESS_KEY_ID\"] = keys[\"AWS_ACCESS_KEY_ID\"]\n",
    "os.environ[\"AWS_SECRET_ACCESS_KEY\"] = keys[\"AWS_SECRET_ACCESS_KEY\"]\n",
    "os.environ[\"AWS_DEFAULT_REGION\"] = keys[\"AWS_DEFAULT_REGION\"]\n",
    "\n",
    "with open(\"credentials/ree.json\") as f:\n",
    "    ree = json.load(f)\n",
    "\n",
    "os.environ[\"REE_API_KEY\"] = ree[\"REE_API_KEY\"]"
   ]
  },
  {
   "cell_type": "code",
   "execution_count": 12,
   "id": "75f86a69-a7b1-4a65-9f1a-5b000cd7670c",
   "metadata": {},
   "outputs": [],
   "source": [
    "API_TOKEN = os.environ[\"REE_API_KEY\"]\n",
    "S3_BUCKET = \"hab-ree-data\"\n",
    "S3_PREFIX = \"demanda-real\""
   ]
  },
  {
   "cell_type": "code",
   "execution_count": 13,
   "id": "e361db33-0739-40ff-9645-c14e231f5d71",
   "metadata": {},
   "outputs": [
    {
     "name": "stdout",
     "output_type": "stream",
     "text": [
      "Buckets: ['hab-ree-data']\n"
     ]
    }
   ],
   "source": [
    "s3 = boto3.client(\"s3\")\n",
    "\n",
    "buckets = [b[\"Name\"] for b in s3.list_buckets()[\"Buckets\"]]\n",
    "print(\"Buckets:\", buckets)"
   ]
  },
  {
   "cell_type": "code",
   "execution_count": 14,
   "id": "44213b62-02f4-4680-9a00-0678dbece22f",
   "metadata": {},
   "outputs": [],
   "source": [
    "# Comprobar el indicator_id con el código de ree_indicators. Lo filtré para ver los que contienen \"demanda real\"\n",
    "\n",
    "INDICATOR_ID = \"1293\"\n",
    "year = \"2025\"\n",
    "month = \"01\"\n",
    "day = \"01\"\n",
    "\n",
    "url = f\"https://api.esios.ree.es/indicators/{INDICATOR_ID}\"\n",
    "headers = {\n",
    "    \"x-api-key\": API_TOKEN,\n",
    "    \"Accept\": \"application/json\",\n",
    "    \"Content-Type\": \"application/json\"\n",
    "}\n",
    "params = {\n",
    "    \"start_date\": f\"{year}-{month}-{day}T00\",\n",
    "    \"end_date\": f\"{year}-{month}-{day}T23\"\n",
    "}"
   ]
  },
  {
   "cell_type": "code",
   "execution_count": null,
   "id": "376307cf-9650-4cd7-81c3-dc73e2d6acc5",
   "metadata": {},
   "outputs": [],
   "source": [
    "# Descargar datos\n",
    "\n",
    "resp = requests.get(url, headers=headers, params=params)\n",
    "resp.raise_for_status()\n",
    "data = resp.json()\n",
    "\n",
    "#data"
   ]
  },
  {
   "cell_type": "code",
   "execution_count": 16,
   "id": "dc5f0eb2-0972-4cf7-89aa-703f77bd9090",
   "metadata": {},
   "outputs": [],
   "source": [
    "# Guardar datos como JSON\n",
    "\n",
    "body = json.dumps(data[\"indicator\"][\"values\"], ensure_ascii=False, indent=2)\n",
    "\n",
    "#body"
   ]
  },
  {
   "cell_type": "code",
   "execution_count": 17,
   "id": "77b3e86e-6e08-4d4f-addb-4811299a3938",
   "metadata": {},
   "outputs": [],
   "source": [
    "# Definir la ruta en S3\n",
    "\n",
    "key = f\"{S3_PREFIX}/{year}/{month}/{day}/part-test.json\""
   ]
  },
  {
   "cell_type": "code",
   "execution_count": 18,
   "id": "ea0beacf-3b11-4a34-a5b1-847c3f7d5503",
   "metadata": {},
   "outputs": [
    {
     "name": "stdout",
     "output_type": "stream",
     "text": [
      "Subido a S3: s3://hab-ree-data/demanda-real/2025/01/01/part-test.json\n"
     ]
    }
   ],
   "source": [
    "# Subir a S3\n",
    "s3.put_object(Bucket=S3_BUCKET, Key=key, Body=body, ContentType=\"application/json\")\n",
    "\n",
    "print(\"Subido a S3:\", f\"s3://{S3_BUCKET}/{key}\")"
   ]
  },
  {
   "cell_type": "code",
   "execution_count": null,
   "id": "290096e1-99cc-46a1-8760-13534ff70d7b",
   "metadata": {},
   "outputs": [],
   "source": []
  }
 ],
 "metadata": {
  "kernelspec": {
   "display_name": "Python 3 (ipykernel)",
   "language": "python",
   "name": "python3"
  },
  "language_info": {
   "codemirror_mode": {
    "name": "ipython",
    "version": 3
   },
   "file_extension": ".py",
   "mimetype": "text/x-python",
   "name": "python",
   "nbconvert_exporter": "python",
   "pygments_lexer": "ipython3",
   "version": "3.13.5"
  }
 },
 "nbformat": 4,
 "nbformat_minor": 5
}
