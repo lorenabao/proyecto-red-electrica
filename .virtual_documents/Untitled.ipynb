import boto3, json, os
import pandas as pd
from botocore.config import Config


S3_BUCKET = "hab-ree-data-json"
S3_PREFIX = "demanda-real"
OUTPUT_KEY = "merged/ree-data_full.json"


with open("credentials/aws_keys.json") as f:
    keys = json.load(f)

os.environ["AWS_ACCESS_KEY_ID"] = keys["AWS_ACCESS_KEY_ID"]
os.environ["AWS_SECRET_ACCESS_KEY"] = keys["AWS_SECRET_ACCESS_KEY"]
os.environ["AWS_DEFAULT_REGION"] = keys["AWS_DEFAULT_REGION"]


s3 = boto3.client("s3")


dfs = []
processed = 0
MAX_FILES = 5  # número de archivos de prueba

paginator = s3.get_paginator("list_objects_v2")

for page in paginator.paginate(Bucket=S3_BUCKET, Prefix=S3_PREFIX):
    for obj in page.get("Contents", []):
        key = obj["Key"]

        #body = s3.get_object(Bucket=S3_BUCKET, Key=key)["Body"].read()
        #data = json.loads(body)

        # Soporta dict con indicator.values o lista directa
        #values = data["indicator"]["values"] if isinstance(data, dict) else data
        #df = pd.DataFrame(values)
        #dfs.append(df)

        #processed += 1
        #print(f"[{processed}] {key} -> {len(df)} filas")

        #if processed >= MAX_FILES:
            break
    if processed >= MAX_FILES:
        break





dfs = []
paginator = s3.get_paginator("list_objects_v2")

for page in paginator.paginate(Bucket=S3_BUCKET, Prefix=S3_PREFIX):
    for obj in page.get("Contents", []):
        key = obj["Key"] 

        body = s3.get_object(Bucket=S3_BUCKET, Key=key)["Body"].read()
        data = json.loads(body)

        values = data["indicator"]["values"] if isinstance(data, dict) else data
        dfs.append(pd.DataFrame(values))


full_df = pd.concat(dfs, ignore_index=True)
print("Filas totales:", len(full_df))


# Probar también con orient="split" https://pandas.pydata.org/docs/reference/api/pandas.DataFrame.to_json.html

payload = full_df.to_json(orient="records")
s3.put_object(
    Bucket=S3_BUCKET,
    Key=OUTPUT_KEY,
    Body=payload,
    ContentType="application/json"
)

print(f"Merged listo: s3://{S3_BUCKET}/{OUTPUT_KEY}")



