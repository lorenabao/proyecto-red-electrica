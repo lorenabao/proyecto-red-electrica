import os, boto3, requests, io, json


with open("credentials/aws_keys.json") as f:
    keys = json.load(f)

os.environ["AWS_ACCESS_KEY_ID"] = keys["AWS_ACCESS_KEY_ID"]
os.environ["AWS_SECRET_ACCESS_KEY"] = keys["AWS_SECRET_ACCESS_KEY"]
os.environ["AWS_DEFAULT_REGION"] = keys["AWS_DEFAULT_REGION"]

with open("credentials/ree.json") as f:
    ree = json.load(f)

os.environ["REE_API_KEY"] = ree["REE_API_KEY"]


API_TOKEN = os.environ["REE_API_KEY"]
S3_BUCKET = "hab-data-ree"
S3_PREFIX = "demanda-real"


s3 = boto3.client("s3")


# Comprobar el indicator_id con el código de ree_indicators. Lo filtré para ver los que contienen "demanda real"

INDICATOR_ID = "1293"
year = "2025"
month = "01"
day = "01"

url = f"https://api.esios.ree.es/indicators/{INDICATOR_ID}"
headers = {
    "x-api-key": API_TOKEN,
    "Accept": "application/json",
    "Content-Type": "application/json"
}
params = {
    "start_date": f"{year}-{month}-{day}T00",
    "end_date": f"{year}-{month}-{day}T23"
}


# Descargar datos

resp = requests.get(url, headers=headers, params=params)
resp.raise_for_status()
data = resp.json()

data


# Guardar datos como JSON en memoria

body = json.dumps(data["indicator"]["values"], ensure_ascii=False, indent=2)

body


# Definir la ruta en S3

key = f"{S3_PREFIX}/{year}/{month}/{day}/part-test.json"


# Subir a S3
s3.put_object(Bucket=S3_BUCKET, Key=key, Body=body, ContentType="application/json")

print("✅ Subido a S3:", f"s3://{S3_BUCKET}/{key}")



