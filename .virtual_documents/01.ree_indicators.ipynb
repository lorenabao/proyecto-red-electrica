import requests, json, os


with open("credentials/ree.json") as f:
    ree = json.load(f)

os.environ["REE_API_KEY"] = ree["REE_API_KEY"]


headers = {
    "x-api-key": os.environ["REE_API_KEY"],
    "Accept": "application/json",
    "Content-Type": "application/json"
}

resp = requests.get("https://api.esios.ree.es/indicators?search=demanda", headers=headers)
resp.raise_for_status()
indicators = resp.json()["indicators"]

for ind in indicators:
    if "demanda real" in ind["name"].lower():
        print(ind["id"], ind["name"])



