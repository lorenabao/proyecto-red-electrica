{
 "cells": [
  {
   "cell_type": "code",
   "execution_count": 1,
   "id": "caf8a449-7b89-4a57-a667-d07131f0e3f5",
   "metadata": {},
   "outputs": [],
   "source": [
    "import requests, json, os"
   ]
  },
  {
   "cell_type": "code",
   "execution_count": 2,
   "id": "59d2b032-660b-4165-b9df-7299d502348d",
   "metadata": {},
   "outputs": [],
   "source": [
    "with open(\"credentials/ree.json\") as f:\n",
    "    ree = json.load(f)\n",
    "\n",
    "os.environ[\"REE_API_KEY\"] = ree[\"REE_API_KEY\"]"
   ]
  },
  {
   "cell_type": "code",
   "execution_count": 6,
   "id": "f179933a-dcd0-4c74-9c2c-315d67c5c7d4",
   "metadata": {},
   "outputs": [
    {
     "name": "stdout",
     "output_type": "stream",
     "text": [
      "624 Demanda real máximo diario\n",
      "625 Demanda real mínimo diario\n",
      "1293 Demanda real\n",
      "1740 Demanda Real SNP\n",
      "2037 Demanda real nacional\n",
      "2052 Demanda real prevista nacional\n",
      "2053 Demanda real programada nacional\n",
      "10004 Demanda real suma de generación\n",
      "10350 Demanda real suma de generación SNP\n"
     ]
    }
   ],
   "source": [
    "headers = {\n",
    "    \"x-api-key\": os.environ[\"REE_API_KEY\"],\n",
    "    \"Accept\": \"application/json\",\n",
    "    \"Content-Type\": \"application/json\"\n",
    "}\n",
    "\n",
    "resp = requests.get(\"https://api.esios.ree.es/indicators?search=demanda\", headers=headers)\n",
    "resp.raise_for_status()\n",
    "indicators = resp.json()[\"indicators\"]\n",
    "\n",
    "for ind in indicators:\n",
    "    if \"demanda real\" in ind[\"name\"].lower():\n",
    "        print(ind[\"id\"], ind[\"name\"])"
   ]
  },
  {
   "cell_type": "code",
   "execution_count": null,
   "id": "4bdcbca8-d6ba-40a3-b386-897a0013fd8d",
   "metadata": {},
   "outputs": [],
   "source": []
  }
 ],
 "metadata": {
  "kernelspec": {
   "display_name": "Python 3 (ipykernel)",
   "language": "python",
   "name": "python3"
  },
  "language_info": {
   "codemirror_mode": {
    "name": "ipython",
    "version": 3
   },
   "file_extension": ".py",
   "mimetype": "text/x-python",
   "name": "python",
   "nbconvert_exporter": "python",
   "pygments_lexer": "ipython3",
   "version": "3.13.5"
  }
 },
 "nbformat": 4,
 "nbformat_minor": 5
}
