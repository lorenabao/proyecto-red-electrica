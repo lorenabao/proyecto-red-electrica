{
 "cells": [
  {
   "cell_type": "code",
   "execution_count": 5,
   "id": "caf8a449-7b89-4a57-a667-d07131f0e3f5",
   "metadata": {},
   "outputs": [],
   "source": [
    "import requests, json, os\n",
    "from datetime import datetime, timedelta"
   ]
  },
  {
   "cell_type": "code",
   "execution_count": 2,
   "id": "59d2b032-660b-4165-b9df-7299d502348d",
   "metadata": {},
   "outputs": [],
   "source": [
    "with open(\"credentials/ree.json\") as f:\n",
    "    ree = json.load(f)\n",
    "\n",
    "os.environ[\"REE_API_KEY\"] = ree[\"REE_API_KEY\"]"
   ]
  },
  {
   "cell_type": "code",
   "execution_count": null,
   "id": "09b868d6-d641-4bfd-b5f0-ed29c8ec0be9",
   "metadata": {},
   "outputs": [],
   "source": [
    "headers = {\n",
    "    \"x-api-key\": os.environ[\"REE_API_KEY\"],\n",
    "    \"Accept\": \"application/json\",\n",
    "    \"Content-Type\": \"application/json\"\n",
    "}"
   ]
  },
  {
   "cell_type": "code",
   "execution_count": 10,
   "id": "f179933a-dcd0-4c74-9c2c-315d67c5c7d4",
   "metadata": {},
   "outputs": [
    {
     "name": "stdout",
     "output_type": "stream",
     "text": [
      "624 Demanda real máximo diario\n",
      "625 Demanda real mínimo diario\n",
      "1293 Demanda real\n",
      "1740 Demanda Real SNP\n",
      "2037 Demanda real nacional\n",
      "2052 Demanda real prevista nacional\n",
      "2053 Demanda real programada nacional\n",
      "10004 Demanda real suma de generación\n",
      "10350 Demanda real suma de generación SNP\n"
     ]
    }
   ],
   "source": [
    "resp = requests.get(\"https://api.esios.ree.es/indicators?search=demanda\", headers=headers)\n",
    "resp.raise_for_status()\n",
    "indicators = resp.json()[\"indicators\"]\n",
    "\n",
    "for ind in indicators:\n",
    "    if \"demanda real\" in ind[\"name\"].lower():\n",
    "        print(ind[\"id\"], ind[\"name\"])"
   ]
  },
  {
   "cell_type": "code",
   "execution_count": 8,
   "id": "30de4f60-69c1-4940-9cf6-4afd1da96299",
   "metadata": {},
   "outputs": [
    {
     "name": "stdout",
     "output_type": "stream",
     "text": [
      "El indicador 1293 se llama: Demanda real\n"
     ]
    }
   ],
   "source": [
    "indicator_id = 1293\n",
    "\n",
    "resp = requests.get(\n",
    "    f\"https://api.esios.ree.es/indicators/{indicator_id}\",\n",
    "    headers=headers\n",
    ")\n",
    "resp.raise_for_status()\n",
    "data = resp.json()\n",
    "\n",
    "nombre = data.get(\"indicator\", {}).get(\"name\")\n",
    "print(f\"El indicador {indicator_id} se llama: {nombre}\")"
   ]
  },
  {
   "cell_type": "code",
   "execution_count": 11,
   "id": "bff3cd77-9606-4670-aad3-b89ec789c7c7",
   "metadata": {},
   "outputs": [
    {
     "name": "stderr",
     "output_type": "stream",
     "text": [
      "/var/folders/1b/52_7kkd1249dzhl0d15c5dfc0000gn/T/ipykernel_2817/1035138603.py:9: DeprecationWarning: datetime.datetime.utcnow() is deprecated and scheduled for removal in a future version. Use timezone-aware objects to represent datetimes in UTC: datetime.datetime.now(datetime.UTC).\n",
      "  start = (datetime.utcnow() - timedelta(days=2)).strftime(\"%Y-%m-%dT00:00:00\")\n",
      "/var/folders/1b/52_7kkd1249dzhl0d15c5dfc0000gn/T/ipykernel_2817/1035138603.py:10: DeprecationWarning: datetime.datetime.utcnow() is deprecated and scheduled for removal in a future version. Use timezone-aware objects to represent datetimes in UTC: datetime.datetime.now(datetime.UTC).\n",
      "  end   = datetime.utcnow().strftime(\"%Y-%m-%dT23:59:59\")\n"
     ]
    },
    {
     "name": "stdout",
     "output_type": "stream",
     "text": [
      "[\n",
      "  {\n",
      "    \"value\": 26183.0,\n",
      "    \"datetime\": \"2025-09-14T00:00:00.000+02:00\",\n",
      "    \"datetime_utc\": \"2025-09-13T22:00:00Z\",\n",
      "    \"tz_time\": \"2025-09-13T22:00:00.000Z\",\n",
      "    \"geo_id\": 3,\n",
      "    \"geo_name\": \"España\"\n",
      "  },\n",
      "  {\n",
      "    \"value\": 26022.0,\n",
      "    \"datetime\": \"2025-09-14T00:05:00.000+02:00\",\n",
      "    \"datetime_utc\": \"2025-09-13T22:05:00Z\",\n",
      "    \"tz_time\": \"2025-09-13T22:05:00.000Z\",\n",
      "    \"geo_id\": 3,\n",
      "    \"geo_name\": \"España\"\n",
      "  },\n",
      "  {\n",
      "    \"value\": 25884.0,\n",
      "    \"datetime\": \"2025-09-14T00:10:00.000+02:00\",\n",
      "    \"datetime_utc\": \"2025-09-13T22:10:00Z\",\n",
      "    \"tz_time\": \"2025-09-13T22:10:00.000Z\",\n",
      "    \"geo_id\": 3,\n",
      "    \"geo_name\": \"España\"\n",
      "  },\n",
      "  {\n",
      "    \"value\": 25769.0,\n",
      "    \"datetime\": \"2025-09-14T00:15:00.000+02:00\",\n",
      "    \"datetime_utc\": \"2025-09-13T22:15:00Z\",\n",
      "    \"tz_time\": \"2025-09-13T22:15:00.000Z\",\n",
      "    \"geo_id\": 3,\n",
      "    \"geo_name\": \"España\"\n",
      "  },\n",
      "  {\n",
      "    \"value\": 25662.0,\n",
      "    \"datetime\": \"2025-09-14T00:20:00.000+02:00\",\n",
      "    \"datetime_utc\": \"2025-09-13T22:20:00Z\",\n",
      "    \"tz_time\": \"2025-09-13T22:20:00.000Z\",\n",
      "    \"geo_id\": 3,\n",
      "    \"geo_name\": \"España\"\n",
      "  }\n",
      "]\n"
     ]
    }
   ],
   "source": [
    "indicator_id = 2052\n",
    "\n",
    "start = (datetime.utcnow() - timedelta(days=2)).strftime(\"%Y-%m-%dT00:00:00\")\n",
    "end   = datetime.utcnow().strftime(\"%Y-%m-%dT23:59:59\")\n",
    "\n",
    "params = {\n",
    "    \"start_date\": start,\n",
    "    \"end_date\": end\n",
    "}\n",
    "\n",
    "resp = requests.get(\n",
    "    f\"https://api.esios.ree.es/indicators/{indicator_id}\",\n",
    "    headers=headers,\n",
    "    params=params\n",
    ")\n",
    "resp.raise_for_status()\n",
    "data = resp.json()\n",
    "\n",
    "# los valores están dentro de \"indicator\" -> \"values\"\n",
    "values = data.get(\"indicator\", {}).get(\"values\", [])\n",
    "\n",
    "# imprimir los primeros 5 para inspeccionar\n",
    "print(json.dumps(values[:5], indent=2, ensure_ascii=False))\n"
   ]
  },
  {
   "cell_type": "code",
   "execution_count": null,
   "id": "feb39a57-d9ed-426b-99eb-8e23dbac5b04",
   "metadata": {},
   "outputs": [],
   "source": []
  }
 ],
 "metadata": {
  "kernelspec": {
   "display_name": "Python 3 (ipykernel)",
   "language": "python",
   "name": "python3"
  },
  "language_info": {
   "codemirror_mode": {
    "name": "ipython",
    "version": 3
   },
   "file_extension": ".py",
   "mimetype": "text/x-python",
   "name": "python",
   "nbconvert_exporter": "python",
   "pygments_lexer": "ipython3",
   "version": "3.13.5"
  }
 },
 "nbformat": 4,
 "nbformat_minor": 5
}
