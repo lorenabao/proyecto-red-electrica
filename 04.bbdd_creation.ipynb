{
 "cells": [
  {
   "cell_type": "code",
   "execution_count": 1,
   "id": "a95635a7-8858-45b2-add0-6aeb47f028aa",
   "metadata": {},
   "outputs": [],
   "source": [
    "#!pip install psycopg2-binary"
   ]
  },
  {
   "cell_type": "code",
   "execution_count": 2,
   "id": "0467e890-e6d1-454e-82d1-65f2811666cf",
   "metadata": {},
   "outputs": [],
   "source": [
    "import os, boto3, requests, io, json\n",
    "from io import StringIO\n",
    "from datetime import datetime, timedelta, timezone\n",
    "import pandas as pd\n",
    "from psycopg2 import pool, sql"
   ]
  },
  {
   "cell_type": "code",
   "execution_count": 8,
   "id": "9ad500ec-a8c4-4102-95b3-82445ec27f56",
   "metadata": {},
   "outputs": [],
   "source": [
    "with open(\"credentials/aws_keys.json\") as f:\n",
    "    keys = json.load(f)\n",
    "\n",
    "os.environ[\"AWS_ACCESS_KEY_ID\"] = keys[\"AWS_ACCESS_KEY_ID\"]\n",
    "os.environ[\"AWS_SECRET_ACCESS_KEY\"] = keys[\"AWS_SECRET_ACCESS_KEY\"]\n",
    "os.environ[\"AWS_DEFAULT_REGION\"] = keys[\"AWS_DEFAULT_REGION\"]\n",
    "\n",
    "\n",
    "with open(\"credentials/bbdd.json\") as f:\n",
    "    bbdd = json.load(f)\n",
    "\n",
    "os.environ[\"host\"] = bbdd[\"host\"]\n",
    "os.environ[\"database\"] = bbdd[\"database\"]\n",
    "os.environ[\"user\"] = bbdd[\"user\"]\n",
    "os.environ[\"password\"] = bbdd[\"password\"]"
   ]
  },
  {
   "cell_type": "code",
   "execution_count": 9,
   "id": "8cd24c6d-19e2-4345-b47f-896116f071ef",
   "metadata": {},
   "outputs": [
    {
     "name": "stdout",
     "output_type": "stream",
     "text": [
      "Se cargaron 760090 registros\n"
     ]
    }
   ],
   "source": [
    "s3 = boto3.client(\"s3\")\n",
    "\n",
    "bucket_name = \"hab-ree-data-json\"\n",
    "file_key = \"merged/ree-data_full.json\"\n",
    "\n",
    "response = s3.get_object(Bucket=bucket_name, Key=file_key)\n",
    "data_json = json.loads(response[\"Body\"].read())\n",
    "print(f\"Se cargaron {len(data_json)} registros\")"
   ]
  },
  {
   "cell_type": "code",
   "execution_count": 10,
   "id": "5d04e507-663b-463b-b25e-302b94b3fd64",
   "metadata": {},
   "outputs": [
    {
     "ename": "OperationalError",
     "evalue": "connection to server at \"13.62.85.98\", port 5432 failed: FATAL:  too many connections for database \"ree\"\n",
     "output_type": "error",
     "traceback": [
      "\u001b[0;31m---------------------------------------------------------------------------\u001b[0m",
      "\u001b[0;31mOperationalError\u001b[0m                          Traceback (most recent call last)",
      "Cell \u001b[0;32mIn[10], line 1\u001b[0m\n\u001b[0;32m----> 1\u001b[0m connection_pool \u001b[38;5;241m=\u001b[39m pool\u001b[38;5;241m.\u001b[39mSimpleConnectionPool(\n\u001b[1;32m      2\u001b[0m     \u001b[38;5;241m1\u001b[39m, \u001b[38;5;241m10\u001b[39m,\n\u001b[1;32m      3\u001b[0m     host\u001b[38;5;241m=\u001b[39mbbdd[\u001b[38;5;124m\"\u001b[39m\u001b[38;5;124mhost\u001b[39m\u001b[38;5;124m\"\u001b[39m],\n\u001b[1;32m      4\u001b[0m     database\u001b[38;5;241m=\u001b[39mbbdd[\u001b[38;5;124m\"\u001b[39m\u001b[38;5;124mdatabase\u001b[39m\u001b[38;5;124m\"\u001b[39m],\n\u001b[1;32m      5\u001b[0m     user\u001b[38;5;241m=\u001b[39mbbdd[\u001b[38;5;124m\"\u001b[39m\u001b[38;5;124muser\u001b[39m\u001b[38;5;124m\"\u001b[39m],\n\u001b[1;32m      6\u001b[0m     password\u001b[38;5;241m=\u001b[39mbbdd[\u001b[38;5;124m\"\u001b[39m\u001b[38;5;124mpassword\u001b[39m\u001b[38;5;124m\"\u001b[39m]\n\u001b[1;32m      7\u001b[0m )\n\u001b[1;32m      9\u001b[0m conn \u001b[38;5;241m=\u001b[39m connection_pool\u001b[38;5;241m.\u001b[39mgetconn()\n\u001b[1;32m     11\u001b[0m connection_pool\u001b[38;5;241m.\u001b[39mputconn(conn)\n",
      "File \u001b[0;32m/opt/anaconda3/lib/python3.13/site-packages/psycopg2/pool.py:59\u001b[0m, in \u001b[0;36mAbstractConnectionPool.__init__\u001b[0;34m(self, minconn, maxconn, *args, **kwargs)\u001b[0m\n\u001b[1;32m     56\u001b[0m \u001b[38;5;28mself\u001b[39m\u001b[38;5;241m.\u001b[39m_keys \u001b[38;5;241m=\u001b[39m \u001b[38;5;241m0\u001b[39m\n\u001b[1;32m     58\u001b[0m \u001b[38;5;28;01mfor\u001b[39;00m i \u001b[38;5;129;01min\u001b[39;00m \u001b[38;5;28mrange\u001b[39m(\u001b[38;5;28mself\u001b[39m\u001b[38;5;241m.\u001b[39mminconn):\n\u001b[0;32m---> 59\u001b[0m     \u001b[38;5;28mself\u001b[39m\u001b[38;5;241m.\u001b[39m_connect()\n",
      "File \u001b[0;32m/opt/anaconda3/lib/python3.13/site-packages/psycopg2/pool.py:63\u001b[0m, in \u001b[0;36mAbstractConnectionPool._connect\u001b[0;34m(self, key)\u001b[0m\n\u001b[1;32m     61\u001b[0m \u001b[38;5;28;01mdef\u001b[39;00m\u001b[38;5;250m \u001b[39m\u001b[38;5;21m_connect\u001b[39m(\u001b[38;5;28mself\u001b[39m, key\u001b[38;5;241m=\u001b[39m\u001b[38;5;28;01mNone\u001b[39;00m):\n\u001b[1;32m     62\u001b[0m \u001b[38;5;250m    \u001b[39m\u001b[38;5;124;03m\"\"\"Create a new connection and assign it to 'key' if not None.\"\"\"\u001b[39;00m\n\u001b[0;32m---> 63\u001b[0m     conn \u001b[38;5;241m=\u001b[39m psycopg2\u001b[38;5;241m.\u001b[39mconnect(\u001b[38;5;241m*\u001b[39m\u001b[38;5;28mself\u001b[39m\u001b[38;5;241m.\u001b[39m_args, \u001b[38;5;241m*\u001b[39m\u001b[38;5;241m*\u001b[39m\u001b[38;5;28mself\u001b[39m\u001b[38;5;241m.\u001b[39m_kwargs)\n\u001b[1;32m     64\u001b[0m     \u001b[38;5;28;01mif\u001b[39;00m key \u001b[38;5;129;01mis\u001b[39;00m \u001b[38;5;129;01mnot\u001b[39;00m \u001b[38;5;28;01mNone\u001b[39;00m:\n\u001b[1;32m     65\u001b[0m         \u001b[38;5;28mself\u001b[39m\u001b[38;5;241m.\u001b[39m_used[key] \u001b[38;5;241m=\u001b[39m conn\n",
      "File \u001b[0;32m/opt/anaconda3/lib/python3.13/site-packages/psycopg2/__init__.py:122\u001b[0m, in \u001b[0;36mconnect\u001b[0;34m(dsn, connection_factory, cursor_factory, **kwargs)\u001b[0m\n\u001b[1;32m    119\u001b[0m     kwasync[\u001b[38;5;124m'\u001b[39m\u001b[38;5;124masync_\u001b[39m\u001b[38;5;124m'\u001b[39m] \u001b[38;5;241m=\u001b[39m kwargs\u001b[38;5;241m.\u001b[39mpop(\u001b[38;5;124m'\u001b[39m\u001b[38;5;124masync_\u001b[39m\u001b[38;5;124m'\u001b[39m)\n\u001b[1;32m    121\u001b[0m dsn \u001b[38;5;241m=\u001b[39m _ext\u001b[38;5;241m.\u001b[39mmake_dsn(dsn, \u001b[38;5;241m*\u001b[39m\u001b[38;5;241m*\u001b[39mkwargs)\n\u001b[0;32m--> 122\u001b[0m conn \u001b[38;5;241m=\u001b[39m _connect(dsn, connection_factory\u001b[38;5;241m=\u001b[39mconnection_factory, \u001b[38;5;241m*\u001b[39m\u001b[38;5;241m*\u001b[39mkwasync)\n\u001b[1;32m    123\u001b[0m \u001b[38;5;28;01mif\u001b[39;00m cursor_factory \u001b[38;5;129;01mis\u001b[39;00m \u001b[38;5;129;01mnot\u001b[39;00m \u001b[38;5;28;01mNone\u001b[39;00m:\n\u001b[1;32m    124\u001b[0m     conn\u001b[38;5;241m.\u001b[39mcursor_factory \u001b[38;5;241m=\u001b[39m cursor_factory\n",
      "\u001b[0;31mOperationalError\u001b[0m: connection to server at \"13.62.85.98\", port 5432 failed: FATAL:  too many connections for database \"ree\"\n"
     ]
    }
   ],
   "source": [
    "connection_pool = pool.SimpleConnectionPool(\n",
    "    1, 10,\n",
    "    host=bbdd[\"host\"],\n",
    "    database=bbdd[\"database\"],\n",
    "    user=bbdd[\"user\"],\n",
    "    password=bbdd[\"password\"]\n",
    ")\n",
    "\n",
    "conn = connection_pool.getconn()\n",
    "\n",
    "connection_pool.putconn(conn)\n"
   ]
  },
  {
   "cell_type": "code",
   "execution_count": null,
   "id": "9bc11f64-79a5-49e2-ade2-f26575b60e86",
   "metadata": {},
   "outputs": [],
   "source": [
    "table_name = \"demanda_electrica\"\n",
    "\n",
    "columns = data_json[0].keys()\n",
    "\n",
    "columns_with_types = \", \".join(f\"{col} TEXT\" for col in columns)  \n",
    "create_table_query = f\"CREATE TABLE IF NOT EXISTS {table_name} ({columns_with_types});\"\n",
    "\n",
    "conn = connection_pool.getconn()\n",
    "cursor = conn.cursor()\n",
    "\n",
    "cursor.execute(create_table_query)\n",
    "conn.commit()\n",
    "cursor.close()\n",
    "connection_pool.putconn(conn)\n"
   ]
  },
  {
   "cell_type": "code",
   "execution_count": null,
   "id": "9e03e28a-00e7-4f79-96a2-268b4d91465d",
   "metadata": {},
   "outputs": [],
   "source": [
    "conn = connection_pool.getconn()\n",
    "cursor = conn.cursor()\n",
    "\n",
    "for row in data_json:\n",
    "    cols = row.keys()\n",
    "    values = [str(row[col]) for col in cols] \n",
    "    insert_query = sql.SQL(\"INSERT INTO {} ({}) VALUES ({})\").format(\n",
    "        sql.Identifier(table_name),\n",
    "        sql.SQL(', ').join(map(sql.Identifier, cols)),\n",
    "        sql.SQL(', ').join(sql.Placeholder() * len(cols))\n",
    "    )\n",
    "    cursor.execute(insert_query, values)\n",
    "\n",
    "conn.commit()\n",
    "cursor.close()\n",
    "connection_pool.putconn(conn)\n"
   ]
  },
  {
   "cell_type": "code",
   "execution_count": null,
   "id": "95c80640-f33a-411f-9c92-b69cb6cc8ede",
   "metadata": {},
   "outputs": [],
   "source": [
    "#cerrar las conexiones\n",
    "connection_pool.closeall()\n"
   ]
  }
 ],
 "metadata": {
  "kernelspec": {
   "display_name": "Python 3 (ipykernel)",
   "language": "python",
   "name": "python3"
  },
  "language_info": {
   "codemirror_mode": {
    "name": "ipython",
    "version": 3
   },
   "file_extension": ".py",
   "mimetype": "text/x-python",
   "name": "python",
   "nbconvert_exporter": "python",
   "pygments_lexer": "ipython3",
   "version": "3.13.5"
  }
 },
 "nbformat": 4,
 "nbformat_minor": 5
}
