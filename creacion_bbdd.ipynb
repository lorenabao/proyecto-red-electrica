{
 "cells": [
  {
   "cell_type": "code",
   "execution_count": 41,
   "id": "5d04e507-663b-463b-b25e-302b94b3fd64",
   "metadata": {},
   "outputs": [],
   "source": [
    "from psycopg2 import pool\n",
    "\n",
    "connection_pool = pool.SimpleConnectionPool(\n",
    "    1, 10,  \n",
    "    host=\"13.62.85.98\",\n",
    "    database=\"ree\",\n",
    "    user=\"postgres\",\n",
    "    password=\"postgres\"\n",
    ")\n",
    "\n",
    "conn = connection_pool.getconn()\n",
    "\n",
    "connection_pool.putconn(conn)\n"
   ]
  },
  {
   "cell_type": "code",
   "execution_count": 40,
   "id": "95c80640-f33a-411f-9c92-b69cb6cc8ede",
   "metadata": {},
   "outputs": [],
   "source": [
    "#cerrar las conexiones\n",
    "connection_pool.closeall()\n"
   ]
  },
  {
   "cell_type": "code",
   "execution_count": 37,
   "id": "fdc6a1c1-c40d-4bad-96ff-0bc632eada76",
   "metadata": {},
   "outputs": [],
   "source": [
    "data_json = [\n",
    "    {\"id\": 1, \"nombre\": \"Juan\", \"edad\": 30},\n",
    "    {\"id\": 2, \"nombre\": \"Ana\", \"edad\": 25}\n",
    "]\n"
   ]
  },
  {
   "cell_type": "code",
   "execution_count": 43,
   "id": "9bc11f64-79a5-49e2-ade2-f26575b60e86",
   "metadata": {},
   "outputs": [
    {
     "name": "stdout",
     "output_type": "stream",
     "text": [
      "['id', 'nombre', 'edad']\n"
     ]
    }
   ],
   "source": [
    "from psycopg2 import sql\n",
    "\n",
    "table_name = \"mi_tabla_dinamica\"\n",
    "\n",
    "# Extraer columnas del primer registro del JSON\n",
    "columns = data_json[0].keys()\n",
    "\n",
    "# Generar sentencia CREATE TABLE\n",
    "columns_with_types = \", \".join(f\"{col} TEXT\" for col in columns)  # todo como TEXT para simplificar\n",
    "create_table_query = f\"CREATE TABLE IF NOT EXISTS {table_name} ({columns_with_types});\"\n",
    "\n",
    "conn = connection_pool.getconn()\n",
    "cursor = conn.cursor()\n",
    "\n",
    "cursor.execute(create_table_query)\n",
    "conn.commit()\n",
    "cursor.close()\n",
    "connection_pool.putconn(conn)\n"
   ]
  },
  {
   "cell_type": "code",
   "execution_count": 39,
   "id": "9e03e28a-00e7-4f79-96a2-268b4d91465d",
   "metadata": {},
   "outputs": [],
   "source": [
    "conn = connection_pool.getconn()\n",
    "cursor = conn.cursor()\n",
    "\n",
    "for row in data_json:\n",
    "    cols = row.keys()\n",
    "    values = [str(row[col]) for col in cols] \n",
    "    insert_query = sql.SQL(\"INSERT INTO {} ({}) VALUES ({})\").format(\n",
    "        sql.Identifier(table_name),\n",
    "        sql.SQL(', ').join(map(sql.Identifier, cols)),\n",
    "        sql.SQL(', ').join(sql.Placeholder() * len(cols))\n",
    "    )\n",
    "    cursor.execute(insert_query, values)\n",
    "\n",
    "conn.commit()\n",
    "cursor.close()\n",
    "connection_pool.putconn(conn)\n"
   ]
  },
  {
   "cell_type": "code",
   "execution_count": 28,
   "id": "39a7129b-13a0-4101-a025-d0d99e6b4c27",
   "metadata": {},
   "outputs": [],
   "source": []
  },
  {
   "cell_type": "code",
   "execution_count": null,
   "id": "9383bb28-1af7-4d89-97e5-bfce001a2a11",
   "metadata": {},
   "outputs": [],
   "source": []
  }
 ],
 "metadata": {
  "kernelspec": {
   "display_name": "Python [conda env:base] *",
   "language": "python",
   "name": "conda-base-py"
  },
  "language_info": {
   "codemirror_mode": {
    "name": "ipython",
    "version": 3
   },
   "file_extension": ".py",
   "mimetype": "text/x-python",
   "name": "python",
   "nbconvert_exporter": "python",
   "pygments_lexer": "ipython3",
   "version": "3.12.7"
  }
 },
 "nbformat": 4,
 "nbformat_minor": 5
}
