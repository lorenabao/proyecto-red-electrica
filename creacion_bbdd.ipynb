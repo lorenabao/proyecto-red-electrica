{
 "cells": [
  {
   "cell_type": "code",
   "execution_count": 1,
   "id": "0467e890-e6d1-454e-82d1-65f2811666cf",
   "metadata": {},
   "outputs": [],
   "source": [
    "import os, boto3, requests, io, json\n",
    "from io import StringIO\n",
    "from datetime import datetime, timedelta, timezone\n",
    "import pandas as pd\n",
    "from psycopg2 import pool, sql"
   ]
  },
  {
   "cell_type": "code",
   "execution_count": 2,
   "id": "9ad500ec-a8c4-4102-95b3-82445ec27f56",
   "metadata": {},
   "outputs": [],
   "source": [
    "with open(\"credentials/aws_keys.json\") as f:\n",
    "    keys = json.load(f)\n",
    "\n",
    "os.environ[\"AWS_ACCESS_KEY_ID\"] = keys[\"AWS_ACCESS_KEY_ID\"]\n",
    "os.environ[\"AWS_SECRET_ACCESS_KEY\"] = keys[\"AWS_SECRET_ACCESS_KEY\"]\n",
    "os.environ[\"AWS_DEFAULT_REGION\"] = keys[\"AWS_DEFAULT_REGION\"]"
   ]
  },
  {
   "cell_type": "code",
   "execution_count": 3,
   "id": "8cd24c6d-19e2-4345-b47f-896116f071ef",
   "metadata": {},
   "outputs": [
    {
     "name": "stdout",
     "output_type": "stream",
     "text": [
      "Se cargaron 4276 registros\n"
     ]
    }
   ],
   "source": [
    "s3 = boto3.client(\"s3\")\n",
    "\n",
    "bucket_name = \"hab-ree-data-json\"\n",
    "file_key = \"merged/ree-data_full.json\"\n",
    "\n",
    "response = s3.get_object(Bucket=bucket_name, Key=file_key)\n",
    "data_json = json.loads(response[\"Body\"].read())\n",
    "print(f\"Se cargaron {len(data_json)} registros\")"
   ]
  },
  {
   "cell_type": "code",
   "execution_count": 4,
   "id": "5d04e507-663b-463b-b25e-302b94b3fd64",
   "metadata": {},
   "outputs": [],
   "source": [
    "\n",
    "connection_pool = pool.SimpleConnectionPool(\n",
    "    1, 10,  \n",
    "    host=\"13.62.85.98\",\n",
    "    database=\"ree\",\n",
    "    user=\"postgres\",\n",
    "    password=\"postgres\"\n",
    ")\n",
    "\n",
    "conn = connection_pool.getconn()\n",
    "\n",
    "connection_pool.putconn(conn)\n"
   ]
  },
  {
   "cell_type": "code",
   "execution_count": 10,
   "id": "ad9ee902-10ee-42a8-bd8a-65b1d8b4c9ed",
   "metadata": {},
   "outputs": [
    {
     "ename": "OperationalError",
     "evalue": "connection to server at \"13.62.85.98\", port 5432 failed: FATAL:  too many connections for database \"ree\"\n",
     "output_type": "error",
     "traceback": [
      "\u001b[1;31m---------------------------------------------------------------------------\u001b[0m",
      "\u001b[1;31mOperationalError\u001b[0m                          Traceback (most recent call last)",
      "Cell \u001b[1;32mIn[10], line 12\u001b[0m\n\u001b[0;32m      9\u001b[0m columns_with_types \u001b[38;5;241m=\u001b[39m \u001b[38;5;124m\"\u001b[39m\u001b[38;5;124m, \u001b[39m\u001b[38;5;124m\"\u001b[39m\u001b[38;5;241m.\u001b[39mjoin(\u001b[38;5;124mf\u001b[39m\u001b[38;5;124m\"\u001b[39m\u001b[38;5;132;01m{\u001b[39;00mcol\u001b[38;5;132;01m}\u001b[39;00m\u001b[38;5;124m TEXT\u001b[39m\u001b[38;5;124m\"\u001b[39m \u001b[38;5;28;01mfor\u001b[39;00m col \u001b[38;5;129;01min\u001b[39;00m columns)  \n\u001b[0;32m     10\u001b[0m create_table_query \u001b[38;5;241m=\u001b[39m \u001b[38;5;124mf\u001b[39m\u001b[38;5;124m\"\u001b[39m\u001b[38;5;124mCREATE TABLE IF NOT EXISTS \u001b[39m\u001b[38;5;132;01m{\u001b[39;00mtable_name\u001b[38;5;132;01m}\u001b[39;00m\u001b[38;5;124m (\u001b[39m\u001b[38;5;132;01m{\u001b[39;00mcolumns_with_types\u001b[38;5;132;01m}\u001b[39;00m\u001b[38;5;124m);\u001b[39m\u001b[38;5;124m\"\u001b[39m\n\u001b[1;32m---> 12\u001b[0m conn \u001b[38;5;241m=\u001b[39m connection_pool\u001b[38;5;241m.\u001b[39mgetconn()\n\u001b[0;32m     13\u001b[0m cursor \u001b[38;5;241m=\u001b[39m conn\u001b[38;5;241m.\u001b[39mcursor()\n\u001b[0;32m     15\u001b[0m cursor\u001b[38;5;241m.\u001b[39mexecute(create_table_query)\n",
      "File \u001b[1;32m~\\anaconda3\\Lib\\site-packages\\psycopg2\\pool.py:93\u001b[0m, in \u001b[0;36mAbstractConnectionPool._getconn\u001b[1;34m(self, key)\u001b[0m\n\u001b[0;32m     91\u001b[0m \u001b[38;5;28;01mif\u001b[39;00m \u001b[38;5;28mlen\u001b[39m(\u001b[38;5;28mself\u001b[39m\u001b[38;5;241m.\u001b[39m_used) \u001b[38;5;241m==\u001b[39m \u001b[38;5;28mself\u001b[39m\u001b[38;5;241m.\u001b[39mmaxconn:\n\u001b[0;32m     92\u001b[0m     \u001b[38;5;28;01mraise\u001b[39;00m PoolError(\u001b[38;5;124m\"\u001b[39m\u001b[38;5;124mconnection pool exhausted\u001b[39m\u001b[38;5;124m\"\u001b[39m)\n\u001b[1;32m---> 93\u001b[0m \u001b[38;5;28;01mreturn\u001b[39;00m \u001b[38;5;28mself\u001b[39m\u001b[38;5;241m.\u001b[39m_connect(key)\n",
      "File \u001b[1;32m~\\anaconda3\\Lib\\site-packages\\psycopg2\\pool.py:63\u001b[0m, in \u001b[0;36mAbstractConnectionPool._connect\u001b[1;34m(self, key)\u001b[0m\n\u001b[0;32m     61\u001b[0m \u001b[38;5;28;01mdef\u001b[39;00m \u001b[38;5;21m_connect\u001b[39m(\u001b[38;5;28mself\u001b[39m, key\u001b[38;5;241m=\u001b[39m\u001b[38;5;28;01mNone\u001b[39;00m):\n\u001b[0;32m     62\u001b[0m \u001b[38;5;250m    \u001b[39m\u001b[38;5;124;03m\"\"\"Create a new connection and assign it to 'key' if not None.\"\"\"\u001b[39;00m\n\u001b[1;32m---> 63\u001b[0m     conn \u001b[38;5;241m=\u001b[39m psycopg2\u001b[38;5;241m.\u001b[39mconnect(\u001b[38;5;241m*\u001b[39m\u001b[38;5;28mself\u001b[39m\u001b[38;5;241m.\u001b[39m_args, \u001b[38;5;241m*\u001b[39m\u001b[38;5;241m*\u001b[39m\u001b[38;5;28mself\u001b[39m\u001b[38;5;241m.\u001b[39m_kwargs)\n\u001b[0;32m     64\u001b[0m     \u001b[38;5;28;01mif\u001b[39;00m key \u001b[38;5;129;01mis\u001b[39;00m \u001b[38;5;129;01mnot\u001b[39;00m \u001b[38;5;28;01mNone\u001b[39;00m:\n\u001b[0;32m     65\u001b[0m         \u001b[38;5;28mself\u001b[39m\u001b[38;5;241m.\u001b[39m_used[key] \u001b[38;5;241m=\u001b[39m conn\n",
      "File \u001b[1;32m~\\anaconda3\\Lib\\site-packages\\psycopg2\\__init__.py:122\u001b[0m, in \u001b[0;36mconnect\u001b[1;34m(dsn, connection_factory, cursor_factory, **kwargs)\u001b[0m\n\u001b[0;32m    119\u001b[0m     kwasync[\u001b[38;5;124m'\u001b[39m\u001b[38;5;124masync_\u001b[39m\u001b[38;5;124m'\u001b[39m] \u001b[38;5;241m=\u001b[39m kwargs\u001b[38;5;241m.\u001b[39mpop(\u001b[38;5;124m'\u001b[39m\u001b[38;5;124masync_\u001b[39m\u001b[38;5;124m'\u001b[39m)\n\u001b[0;32m    121\u001b[0m dsn \u001b[38;5;241m=\u001b[39m _ext\u001b[38;5;241m.\u001b[39mmake_dsn(dsn, \u001b[38;5;241m*\u001b[39m\u001b[38;5;241m*\u001b[39mkwargs)\n\u001b[1;32m--> 122\u001b[0m conn \u001b[38;5;241m=\u001b[39m _connect(dsn, connection_factory\u001b[38;5;241m=\u001b[39mconnection_factory, \u001b[38;5;241m*\u001b[39m\u001b[38;5;241m*\u001b[39mkwasync)\n\u001b[0;32m    123\u001b[0m \u001b[38;5;28;01mif\u001b[39;00m cursor_factory \u001b[38;5;129;01mis\u001b[39;00m \u001b[38;5;129;01mnot\u001b[39;00m \u001b[38;5;28;01mNone\u001b[39;00m:\n\u001b[0;32m    124\u001b[0m     conn\u001b[38;5;241m.\u001b[39mcursor_factory \u001b[38;5;241m=\u001b[39m cursor_factory\n",
      "\u001b[1;31mOperationalError\u001b[0m: connection to server at \"13.62.85.98\", port 5432 failed: FATAL:  too many connections for database \"ree\"\n"
     ]
    }
   ],
   "source": [
    "from psycopg2 import sql\n",
    "\n",
    "table_name = \"demanda_electrica\"\n",
    "\n",
    "columns = data_json[0].keys()\n",
    "\n",
    "columns_with_types = \", \".join(f\"{col} TEXT\" for col in columns)  \n",
    "create_table_query = f\"CREATE TABLE IF NOT EXISTS {table_name} ({columns_with_types});\"\n",
    "\n",
    "conn = connection_pool.getconn()\n",
    "cursor = conn.cursor()\n",
    "\n",
    "cursor.execute(create_table_query)\n",
    "conn.commit()\n",
    "cursor.close()\n",
    "connection_pool.putconn(conn)"
   ]
  },
  {
   "cell_type": "code",
   "execution_count": 14,
   "id": "d83b7d31-9716-4797-9de7-07c5149e91f8",
   "metadata": {},
   "outputs": [
    {
     "ename": "InterfaceError",
     "evalue": "connection already closed",
     "output_type": "error",
     "traceback": [
      "\u001b[1;31m---------------------------------------------------------------------------\u001b[0m",
      "\u001b[1;31mInterfaceError\u001b[0m                            Traceback (most recent call last)",
      "Cell \u001b[1;32mIn[14], line 5\u001b[0m\n\u001b[0;32m      3\u001b[0m \u001b[38;5;66;03m# Conexión desde el pool\u001b[39;00m\n\u001b[0;32m      4\u001b[0m conn \u001b[38;5;241m=\u001b[39m connection_pool\u001b[38;5;241m.\u001b[39mgetconn()\n\u001b[1;32m----> 5\u001b[0m cursor \u001b[38;5;241m=\u001b[39m conn\u001b[38;5;241m.\u001b[39mcursor()\n\u001b[0;32m      6\u001b[0m table_name \u001b[38;5;241m=\u001b[39m \u001b[38;5;124m\"\u001b[39m\u001b[38;5;124mdemanda_electrica\u001b[39m\u001b[38;5;124m\"\u001b[39m\n\u001b[0;32m      8\u001b[0m cols \u001b[38;5;241m=\u001b[39m \u001b[38;5;28mlist\u001b[39m(data_json[\u001b[38;5;241m0\u001b[39m]\u001b[38;5;241m.\u001b[39mkeys())\n",
      "\u001b[1;31mInterfaceError\u001b[0m: connection already closed"
     ]
    }
   ],
   "source": [
    "from psycopg2.extras import execute_values\n",
    "\n",
    "# Conexión desde el pool\n",
    "conn = connection_pool.getconn()\n",
    "cursor = conn.cursor()\n",
    "table_name = \"demanda_electrica\"\n",
    "\n",
    "cols = list(data_json[0].keys())\n",
    "insert_query = sql.SQL(\"INSERT INTO {} ({}) VALUES %s\").format(\n",
    "    sql.Identifier(table_name),\n",
    "    sql.SQL(', ').join(map(sql.Identifier, cols))\n",
    ")\n",
    "\n",
    "# Convertir los datos en lista de listas\n",
    "values = [[row[col] for col in cols] for row in data_json]\n",
    "\n",
    "# Definir tamaño de bloque\n",
    "chunk_size = 2000  \n",
    "\n",
    "# Insertar por bloques\n",
    "for i in range(0, len(values), chunk_size):\n",
    "    chunk = values[i:i+chunk_size]\n",
    "    execute_values(cursor, insert_query, chunk, page_size=10000)\n",
    "\n",
    "conn.commit()\n",
    "cursor.close()\n",
    "connection_pool.putconn(conn)\n"
   ]
  },
  {
   "cell_type": "code",
   "execution_count": 13,
   "id": "5adda2c6-50dd-475f-8c96-cdb2af3b2a1c",
   "metadata": {},
   "outputs": [],
   "source": [
    "cursor.close() \n",
    "conn.close()"
   ]
  }
 ],
 "metadata": {
  "kernelspec": {
   "display_name": "Python [conda env:base] *",
   "language": "python",
   "name": "conda-base-py"
  },
  "language_info": {
   "codemirror_mode": {
    "name": "ipython",
    "version": 3
   },
   "file_extension": ".py",
   "mimetype": "text/x-python",
   "name": "python",
   "nbconvert_exporter": "python",
   "pygments_lexer": "ipython3",
   "version": "3.12.7"
  }
 },
 "nbformat": 4,
 "nbformat_minor": 5
}
